{
 "cells": [
  {
   "cell_type": "code",
   "execution_count": 3,
   "id": "e6c4b8a9",
   "metadata": {
    "ExecuteTime": {
     "end_time": "2021-12-02T09:32:05.442636Z",
     "start_time": "2021-12-02T09:32:03.543528Z"
    }
   },
   "outputs": [],
   "source": [
    "import pandas as pd \n",
    "import numpy as np \n",
    "import matplotlib.pyplot as plt\n",
    "from sklearn.model_selection import train_test_split\n",
    "from sklearn import preprocessing\n",
    "import pandas_profiling as pp \n",
    "import sweetviz as sv "
   ]
  },
  {
   "cell_type": "markdown",
   "id": "864d741d",
   "metadata": {},
   "source": [
    "# Exploratory data analysis"
   ]
  },
  {
   "cell_type": "code",
   "execution_count": 4,
   "id": "ad3be125",
   "metadata": {
    "ExecuteTime": {
     "end_time": "2021-12-02T09:32:05.500640Z",
     "start_time": "2021-12-02T09:32:05.444636Z"
    }
   },
   "outputs": [
    {
     "data": {
      "text/html": [
       "<div>\n",
       "<style scoped>\n",
       "    .dataframe tbody tr th:only-of-type {\n",
       "        vertical-align: middle;\n",
       "    }\n",
       "\n",
       "    .dataframe tbody tr th {\n",
       "        vertical-align: top;\n",
       "    }\n",
       "\n",
       "    .dataframe thead th {\n",
       "        text-align: right;\n",
       "    }\n",
       "</style>\n",
       "<table border=\"1\" class=\"dataframe\">\n",
       "  <thead>\n",
       "    <tr style=\"text-align: right;\">\n",
       "      <th></th>\n",
       "      <th>industrial_risk</th>\n",
       "      <th>management_risk</th>\n",
       "      <th>financial_flexibility</th>\n",
       "      <th>credibility</th>\n",
       "      <th>competitiveness</th>\n",
       "      <th>operating_risk</th>\n",
       "      <th>class</th>\n",
       "    </tr>\n",
       "  </thead>\n",
       "  <tbody>\n",
       "    <tr>\n",
       "      <th>0</th>\n",
       "      <td>0.5</td>\n",
       "      <td>1.0</td>\n",
       "      <td>0.0</td>\n",
       "      <td>0.0</td>\n",
       "      <td>0.0</td>\n",
       "      <td>0.5</td>\n",
       "      <td>0</td>\n",
       "    </tr>\n",
       "    <tr>\n",
       "      <th>1</th>\n",
       "      <td>0.0</td>\n",
       "      <td>1.0</td>\n",
       "      <td>0.0</td>\n",
       "      <td>0.0</td>\n",
       "      <td>0.0</td>\n",
       "      <td>1.0</td>\n",
       "      <td>0</td>\n",
       "    </tr>\n",
       "    <tr>\n",
       "      <th>2</th>\n",
       "      <td>1.0</td>\n",
       "      <td>0.0</td>\n",
       "      <td>0.0</td>\n",
       "      <td>0.0</td>\n",
       "      <td>0.0</td>\n",
       "      <td>1.0</td>\n",
       "      <td>0</td>\n",
       "    </tr>\n",
       "    <tr>\n",
       "      <th>3</th>\n",
       "      <td>0.5</td>\n",
       "      <td>0.0</td>\n",
       "      <td>0.0</td>\n",
       "      <td>0.5</td>\n",
       "      <td>0.0</td>\n",
       "      <td>1.0</td>\n",
       "      <td>0</td>\n",
       "    </tr>\n",
       "    <tr>\n",
       "      <th>4</th>\n",
       "      <td>1.0</td>\n",
       "      <td>1.0</td>\n",
       "      <td>0.0</td>\n",
       "      <td>0.0</td>\n",
       "      <td>0.0</td>\n",
       "      <td>1.0</td>\n",
       "      <td>0</td>\n",
       "    </tr>\n",
       "    <tr>\n",
       "      <th>...</th>\n",
       "      <td>...</td>\n",
       "      <td>...</td>\n",
       "      <td>...</td>\n",
       "      <td>...</td>\n",
       "      <td>...</td>\n",
       "      <td>...</td>\n",
       "      <td>...</td>\n",
       "    </tr>\n",
       "    <tr>\n",
       "      <th>245</th>\n",
       "      <td>0.0</td>\n",
       "      <td>1.0</td>\n",
       "      <td>1.0</td>\n",
       "      <td>1.0</td>\n",
       "      <td>1.0</td>\n",
       "      <td>1.0</td>\n",
       "      <td>1</td>\n",
       "    </tr>\n",
       "    <tr>\n",
       "      <th>246</th>\n",
       "      <td>1.0</td>\n",
       "      <td>1.0</td>\n",
       "      <td>0.5</td>\n",
       "      <td>1.0</td>\n",
       "      <td>1.0</td>\n",
       "      <td>0.0</td>\n",
       "      <td>1</td>\n",
       "    </tr>\n",
       "    <tr>\n",
       "      <th>247</th>\n",
       "      <td>0.0</td>\n",
       "      <td>1.0</td>\n",
       "      <td>1.0</td>\n",
       "      <td>0.5</td>\n",
       "      <td>0.5</td>\n",
       "      <td>0.0</td>\n",
       "      <td>1</td>\n",
       "    </tr>\n",
       "    <tr>\n",
       "      <th>248</th>\n",
       "      <td>1.0</td>\n",
       "      <td>0.0</td>\n",
       "      <td>0.5</td>\n",
       "      <td>1.0</td>\n",
       "      <td>0.5</td>\n",
       "      <td>0.0</td>\n",
       "      <td>1</td>\n",
       "    </tr>\n",
       "    <tr>\n",
       "      <th>249</th>\n",
       "      <td>1.0</td>\n",
       "      <td>0.0</td>\n",
       "      <td>0.5</td>\n",
       "      <td>0.5</td>\n",
       "      <td>1.0</td>\n",
       "      <td>1.0</td>\n",
       "      <td>1</td>\n",
       "    </tr>\n",
       "  </tbody>\n",
       "</table>\n",
       "<p>250 rows × 7 columns</p>\n",
       "</div>"
      ],
      "text/plain": [
       "     industrial_risk   management_risk   financial_flexibility   credibility  \\\n",
       "0                0.5               1.0                     0.0           0.0   \n",
       "1                0.0               1.0                     0.0           0.0   \n",
       "2                1.0               0.0                     0.0           0.0   \n",
       "3                0.5               0.0                     0.0           0.5   \n",
       "4                1.0               1.0                     0.0           0.0   \n",
       "..               ...               ...                     ...           ...   \n",
       "245              0.0               1.0                     1.0           1.0   \n",
       "246              1.0               1.0                     0.5           1.0   \n",
       "247              0.0               1.0                     1.0           0.5   \n",
       "248              1.0               0.0                     0.5           1.0   \n",
       "249              1.0               0.0                     0.5           0.5   \n",
       "\n",
       "      competitiveness   operating_risk   class  \n",
       "0                 0.0              0.5       0  \n",
       "1                 0.0              1.0       0  \n",
       "2                 0.0              1.0       0  \n",
       "3                 0.0              1.0       0  \n",
       "4                 0.0              1.0       0  \n",
       "..                ...              ...     ...  \n",
       "245               1.0              1.0       1  \n",
       "246               1.0              0.0       1  \n",
       "247               0.5              0.0       1  \n",
       "248               0.5              0.0       1  \n",
       "249               1.0              1.0       1  \n",
       "\n",
       "[250 rows x 7 columns]"
      ]
     },
     "execution_count": 4,
     "metadata": {},
     "output_type": "execute_result"
    }
   ],
   "source": [
    "bank=pd.read_csv(\"bankruptcy-prevention.csv\",sep=\";\")\n",
    "labelencoder=preprocessing.LabelEncoder()\n",
    "bank[\" class\"]=labelencoder.fit_transform(bank[\" class\"])\n",
    "bank"
   ]
  },
  {
   "cell_type": "code",
   "execution_count": 5,
   "id": "a40899ab",
   "metadata": {
    "ExecuteTime": {
     "end_time": "2021-12-02T09:32:05.539642Z",
     "start_time": "2021-12-02T09:32:05.503640Z"
    }
   },
   "outputs": [
    {
     "data": {
      "text/html": [
       "<div>\n",
       "<style scoped>\n",
       "    .dataframe tbody tr th:only-of-type {\n",
       "        vertical-align: middle;\n",
       "    }\n",
       "\n",
       "    .dataframe tbody tr th {\n",
       "        vertical-align: top;\n",
       "    }\n",
       "\n",
       "    .dataframe thead th {\n",
       "        text-align: right;\n",
       "    }\n",
       "</style>\n",
       "<table border=\"1\" class=\"dataframe\">\n",
       "  <thead>\n",
       "    <tr style=\"text-align: right;\">\n",
       "      <th></th>\n",
       "      <th>industrial_risk</th>\n",
       "      <th>management_risk</th>\n",
       "      <th>financial_flexibility</th>\n",
       "      <th>credibility</th>\n",
       "      <th>competitiveness</th>\n",
       "      <th>operating_risk</th>\n",
       "      <th>class</th>\n",
       "    </tr>\n",
       "  </thead>\n",
       "  <tbody>\n",
       "    <tr>\n",
       "      <th>240</th>\n",
       "      <td>0.0</td>\n",
       "      <td>1.0</td>\n",
       "      <td>0.5</td>\n",
       "      <td>0.5</td>\n",
       "      <td>0.5</td>\n",
       "      <td>0.0</td>\n",
       "      <td>1</td>\n",
       "    </tr>\n",
       "    <tr>\n",
       "      <th>241</th>\n",
       "      <td>1.0</td>\n",
       "      <td>0.0</td>\n",
       "      <td>0.5</td>\n",
       "      <td>0.5</td>\n",
       "      <td>0.5</td>\n",
       "      <td>1.0</td>\n",
       "      <td>1</td>\n",
       "    </tr>\n",
       "    <tr>\n",
       "      <th>242</th>\n",
       "      <td>0.0</td>\n",
       "      <td>1.0</td>\n",
       "      <td>0.5</td>\n",
       "      <td>0.5</td>\n",
       "      <td>0.5</td>\n",
       "      <td>1.0</td>\n",
       "      <td>1</td>\n",
       "    </tr>\n",
       "    <tr>\n",
       "      <th>243</th>\n",
       "      <td>0.0</td>\n",
       "      <td>1.0</td>\n",
       "      <td>1.0</td>\n",
       "      <td>1.0</td>\n",
       "      <td>1.0</td>\n",
       "      <td>0.0</td>\n",
       "      <td>1</td>\n",
       "    </tr>\n",
       "    <tr>\n",
       "      <th>244</th>\n",
       "      <td>1.0</td>\n",
       "      <td>0.0</td>\n",
       "      <td>1.0</td>\n",
       "      <td>1.0</td>\n",
       "      <td>1.0</td>\n",
       "      <td>1.0</td>\n",
       "      <td>1</td>\n",
       "    </tr>\n",
       "    <tr>\n",
       "      <th>245</th>\n",
       "      <td>0.0</td>\n",
       "      <td>1.0</td>\n",
       "      <td>1.0</td>\n",
       "      <td>1.0</td>\n",
       "      <td>1.0</td>\n",
       "      <td>1.0</td>\n",
       "      <td>1</td>\n",
       "    </tr>\n",
       "    <tr>\n",
       "      <th>246</th>\n",
       "      <td>1.0</td>\n",
       "      <td>1.0</td>\n",
       "      <td>0.5</td>\n",
       "      <td>1.0</td>\n",
       "      <td>1.0</td>\n",
       "      <td>0.0</td>\n",
       "      <td>1</td>\n",
       "    </tr>\n",
       "    <tr>\n",
       "      <th>247</th>\n",
       "      <td>0.0</td>\n",
       "      <td>1.0</td>\n",
       "      <td>1.0</td>\n",
       "      <td>0.5</td>\n",
       "      <td>0.5</td>\n",
       "      <td>0.0</td>\n",
       "      <td>1</td>\n",
       "    </tr>\n",
       "    <tr>\n",
       "      <th>248</th>\n",
       "      <td>1.0</td>\n",
       "      <td>0.0</td>\n",
       "      <td>0.5</td>\n",
       "      <td>1.0</td>\n",
       "      <td>0.5</td>\n",
       "      <td>0.0</td>\n",
       "      <td>1</td>\n",
       "    </tr>\n",
       "    <tr>\n",
       "      <th>249</th>\n",
       "      <td>1.0</td>\n",
       "      <td>0.0</td>\n",
       "      <td>0.5</td>\n",
       "      <td>0.5</td>\n",
       "      <td>1.0</td>\n",
       "      <td>1.0</td>\n",
       "      <td>1</td>\n",
       "    </tr>\n",
       "  </tbody>\n",
       "</table>\n",
       "</div>"
      ],
      "text/plain": [
       "     industrial_risk   management_risk   financial_flexibility   credibility  \\\n",
       "240              0.0               1.0                     0.5           0.5   \n",
       "241              1.0               0.0                     0.5           0.5   \n",
       "242              0.0               1.0                     0.5           0.5   \n",
       "243              0.0               1.0                     1.0           1.0   \n",
       "244              1.0               0.0                     1.0           1.0   \n",
       "245              0.0               1.0                     1.0           1.0   \n",
       "246              1.0               1.0                     0.5           1.0   \n",
       "247              0.0               1.0                     1.0           0.5   \n",
       "248              1.0               0.0                     0.5           1.0   \n",
       "249              1.0               0.0                     0.5           0.5   \n",
       "\n",
       "      competitiveness   operating_risk   class  \n",
       "240               0.5              0.0       1  \n",
       "241               0.5              1.0       1  \n",
       "242               0.5              1.0       1  \n",
       "243               1.0              0.0       1  \n",
       "244               1.0              1.0       1  \n",
       "245               1.0              1.0       1  \n",
       "246               1.0              0.0       1  \n",
       "247               0.5              0.0       1  \n",
       "248               0.5              0.0       1  \n",
       "249               1.0              1.0       1  "
      ]
     },
     "execution_count": 5,
     "metadata": {},
     "output_type": "execute_result"
    }
   ],
   "source": [
    "bank.tail(10)"
   ]
  },
  {
   "cell_type": "code",
   "execution_count": 6,
   "id": "f2114cda",
   "metadata": {
    "ExecuteTime": {
     "end_time": "2021-12-02T09:32:05.598645Z",
     "start_time": "2021-12-02T09:32:05.542642Z"
    }
   },
   "outputs": [
    {
     "data": {
      "text/html": [
       "<div>\n",
       "<style scoped>\n",
       "    .dataframe tbody tr th:only-of-type {\n",
       "        vertical-align: middle;\n",
       "    }\n",
       "\n",
       "    .dataframe tbody tr th {\n",
       "        vertical-align: top;\n",
       "    }\n",
       "\n",
       "    .dataframe thead th {\n",
       "        text-align: right;\n",
       "    }\n",
       "</style>\n",
       "<table border=\"1\" class=\"dataframe\">\n",
       "  <thead>\n",
       "    <tr style=\"text-align: right;\">\n",
       "      <th></th>\n",
       "      <th>industrial_risk</th>\n",
       "      <th>management_risk</th>\n",
       "      <th>financial_flexibility</th>\n",
       "      <th>credibility</th>\n",
       "      <th>competitiveness</th>\n",
       "      <th>operating_risk</th>\n",
       "      <th>class</th>\n",
       "    </tr>\n",
       "  </thead>\n",
       "  <tbody>\n",
       "    <tr>\n",
       "      <th>0</th>\n",
       "      <td>0.5</td>\n",
       "      <td>1.0</td>\n",
       "      <td>0.0</td>\n",
       "      <td>0.0</td>\n",
       "      <td>0.0</td>\n",
       "      <td>0.5</td>\n",
       "      <td>0</td>\n",
       "    </tr>\n",
       "    <tr>\n",
       "      <th>1</th>\n",
       "      <td>0.0</td>\n",
       "      <td>1.0</td>\n",
       "      <td>0.0</td>\n",
       "      <td>0.0</td>\n",
       "      <td>0.0</td>\n",
       "      <td>1.0</td>\n",
       "      <td>0</td>\n",
       "    </tr>\n",
       "    <tr>\n",
       "      <th>2</th>\n",
       "      <td>1.0</td>\n",
       "      <td>0.0</td>\n",
       "      <td>0.0</td>\n",
       "      <td>0.0</td>\n",
       "      <td>0.0</td>\n",
       "      <td>1.0</td>\n",
       "      <td>0</td>\n",
       "    </tr>\n",
       "    <tr>\n",
       "      <th>3</th>\n",
       "      <td>0.5</td>\n",
       "      <td>0.0</td>\n",
       "      <td>0.0</td>\n",
       "      <td>0.5</td>\n",
       "      <td>0.0</td>\n",
       "      <td>1.0</td>\n",
       "      <td>0</td>\n",
       "    </tr>\n",
       "    <tr>\n",
       "      <th>4</th>\n",
       "      <td>1.0</td>\n",
       "      <td>1.0</td>\n",
       "      <td>0.0</td>\n",
       "      <td>0.0</td>\n",
       "      <td>0.0</td>\n",
       "      <td>1.0</td>\n",
       "      <td>0</td>\n",
       "    </tr>\n",
       "    <tr>\n",
       "      <th>5</th>\n",
       "      <td>1.0</td>\n",
       "      <td>1.0</td>\n",
       "      <td>0.0</td>\n",
       "      <td>0.5</td>\n",
       "      <td>0.0</td>\n",
       "      <td>0.5</td>\n",
       "      <td>0</td>\n",
       "    </tr>\n",
       "    <tr>\n",
       "      <th>6</th>\n",
       "      <td>1.0</td>\n",
       "      <td>1.0</td>\n",
       "      <td>0.0</td>\n",
       "      <td>0.0</td>\n",
       "      <td>0.0</td>\n",
       "      <td>0.0</td>\n",
       "      <td>0</td>\n",
       "    </tr>\n",
       "    <tr>\n",
       "      <th>7</th>\n",
       "      <td>1.0</td>\n",
       "      <td>1.0</td>\n",
       "      <td>0.0</td>\n",
       "      <td>0.0</td>\n",
       "      <td>0.0</td>\n",
       "      <td>0.5</td>\n",
       "      <td>0</td>\n",
       "    </tr>\n",
       "    <tr>\n",
       "      <th>8</th>\n",
       "      <td>1.0</td>\n",
       "      <td>1.0</td>\n",
       "      <td>0.0</td>\n",
       "      <td>0.5</td>\n",
       "      <td>0.0</td>\n",
       "      <td>0.0</td>\n",
       "      <td>0</td>\n",
       "    </tr>\n",
       "    <tr>\n",
       "      <th>9</th>\n",
       "      <td>1.0</td>\n",
       "      <td>1.0</td>\n",
       "      <td>0.0</td>\n",
       "      <td>0.5</td>\n",
       "      <td>0.0</td>\n",
       "      <td>1.0</td>\n",
       "      <td>0</td>\n",
       "    </tr>\n",
       "    <tr>\n",
       "      <th>10</th>\n",
       "      <td>1.0</td>\n",
       "      <td>1.0</td>\n",
       "      <td>0.5</td>\n",
       "      <td>0.0</td>\n",
       "      <td>0.0</td>\n",
       "      <td>1.0</td>\n",
       "      <td>0</td>\n",
       "    </tr>\n",
       "    <tr>\n",
       "      <th>11</th>\n",
       "      <td>0.0</td>\n",
       "      <td>1.0</td>\n",
       "      <td>0.0</td>\n",
       "      <td>0.0</td>\n",
       "      <td>0.0</td>\n",
       "      <td>1.0</td>\n",
       "      <td>0</td>\n",
       "    </tr>\n",
       "    <tr>\n",
       "      <th>12</th>\n",
       "      <td>0.5</td>\n",
       "      <td>1.0</td>\n",
       "      <td>0.0</td>\n",
       "      <td>0.0</td>\n",
       "      <td>0.0</td>\n",
       "      <td>1.0</td>\n",
       "      <td>0</td>\n",
       "    </tr>\n",
       "    <tr>\n",
       "      <th>13</th>\n",
       "      <td>1.0</td>\n",
       "      <td>1.0</td>\n",
       "      <td>0.0</td>\n",
       "      <td>0.0</td>\n",
       "      <td>0.0</td>\n",
       "      <td>1.0</td>\n",
       "      <td>0</td>\n",
       "    </tr>\n",
       "    <tr>\n",
       "      <th>14</th>\n",
       "      <td>0.0</td>\n",
       "      <td>1.0</td>\n",
       "      <td>0.0</td>\n",
       "      <td>0.0</td>\n",
       "      <td>0.5</td>\n",
       "      <td>0.5</td>\n",
       "      <td>0</td>\n",
       "    </tr>\n",
       "    <tr>\n",
       "      <th>15</th>\n",
       "      <td>0.5</td>\n",
       "      <td>1.0</td>\n",
       "      <td>0.0</td>\n",
       "      <td>0.0</td>\n",
       "      <td>0.0</td>\n",
       "      <td>0.5</td>\n",
       "      <td>0</td>\n",
       "    </tr>\n",
       "    <tr>\n",
       "      <th>16</th>\n",
       "      <td>0.5</td>\n",
       "      <td>1.0</td>\n",
       "      <td>0.0</td>\n",
       "      <td>0.0</td>\n",
       "      <td>0.0</td>\n",
       "      <td>0.5</td>\n",
       "      <td>0</td>\n",
       "    </tr>\n",
       "    <tr>\n",
       "      <th>17</th>\n",
       "      <td>0.5</td>\n",
       "      <td>0.5</td>\n",
       "      <td>0.0</td>\n",
       "      <td>0.0</td>\n",
       "      <td>0.0</td>\n",
       "      <td>0.0</td>\n",
       "      <td>0</td>\n",
       "    </tr>\n",
       "    <tr>\n",
       "      <th>18</th>\n",
       "      <td>0.5</td>\n",
       "      <td>1.0</td>\n",
       "      <td>0.0</td>\n",
       "      <td>0.0</td>\n",
       "      <td>0.0</td>\n",
       "      <td>1.0</td>\n",
       "      <td>0</td>\n",
       "    </tr>\n",
       "    <tr>\n",
       "      <th>19</th>\n",
       "      <td>0.0</td>\n",
       "      <td>0.5</td>\n",
       "      <td>0.0</td>\n",
       "      <td>0.0</td>\n",
       "      <td>0.0</td>\n",
       "      <td>0.5</td>\n",
       "      <td>0</td>\n",
       "    </tr>\n",
       "  </tbody>\n",
       "</table>\n",
       "</div>"
      ],
      "text/plain": [
       "    industrial_risk   management_risk   financial_flexibility   credibility  \\\n",
       "0               0.5               1.0                     0.0           0.0   \n",
       "1               0.0               1.0                     0.0           0.0   \n",
       "2               1.0               0.0                     0.0           0.0   \n",
       "3               0.5               0.0                     0.0           0.5   \n",
       "4               1.0               1.0                     0.0           0.0   \n",
       "5               1.0               1.0                     0.0           0.5   \n",
       "6               1.0               1.0                     0.0           0.0   \n",
       "7               1.0               1.0                     0.0           0.0   \n",
       "8               1.0               1.0                     0.0           0.5   \n",
       "9               1.0               1.0                     0.0           0.5   \n",
       "10              1.0               1.0                     0.5           0.0   \n",
       "11              0.0               1.0                     0.0           0.0   \n",
       "12              0.5               1.0                     0.0           0.0   \n",
       "13              1.0               1.0                     0.0           0.0   \n",
       "14              0.0               1.0                     0.0           0.0   \n",
       "15              0.5               1.0                     0.0           0.0   \n",
       "16              0.5               1.0                     0.0           0.0   \n",
       "17              0.5               0.5                     0.0           0.0   \n",
       "18              0.5               1.0                     0.0           0.0   \n",
       "19              0.0               0.5                     0.0           0.0   \n",
       "\n",
       "     competitiveness   operating_risk   class  \n",
       "0                0.0              0.5       0  \n",
       "1                0.0              1.0       0  \n",
       "2                0.0              1.0       0  \n",
       "3                0.0              1.0       0  \n",
       "4                0.0              1.0       0  \n",
       "5                0.0              0.5       0  \n",
       "6                0.0              0.0       0  \n",
       "7                0.0              0.5       0  \n",
       "8                0.0              0.0       0  \n",
       "9                0.0              1.0       0  \n",
       "10               0.0              1.0       0  \n",
       "11               0.0              1.0       0  \n",
       "12               0.0              1.0       0  \n",
       "13               0.0              1.0       0  \n",
       "14               0.5              0.5       0  \n",
       "15               0.0              0.5       0  \n",
       "16               0.0              0.5       0  \n",
       "17               0.0              0.0       0  \n",
       "18               0.0              1.0       0  \n",
       "19               0.0              0.5       0  "
      ]
     },
     "execution_count": 6,
     "metadata": {},
     "output_type": "execute_result"
    }
   ],
   "source": [
    "bank.head(20)"
   ]
  },
  {
   "cell_type": "code",
   "execution_count": 7,
   "id": "1b514280",
   "metadata": {
    "ExecuteTime": {
     "end_time": "2021-12-02T09:32:05.611646Z",
     "start_time": "2021-12-02T09:32:05.602645Z"
    }
   },
   "outputs": [
    {
     "data": {
      "text/plain": [
       "(250, 7)"
      ]
     },
     "execution_count": 7,
     "metadata": {},
     "output_type": "execute_result"
    }
   ],
   "source": [
    "bank.shape"
   ]
  },
  {
   "cell_type": "code",
   "execution_count": 8,
   "id": "3e97cf91",
   "metadata": {
    "ExecuteTime": {
     "end_time": "2021-12-02T09:32:05.627647Z",
     "start_time": "2021-12-02T09:32:05.616646Z"
    }
   },
   "outputs": [
    {
     "data": {
      "text/plain": [
       "Index(['industrial_risk', ' management_risk', ' financial_flexibility',\n",
       "       ' credibility', ' competitiveness', ' operating_risk', ' class'],\n",
       "      dtype='object')"
      ]
     },
     "execution_count": 8,
     "metadata": {},
     "output_type": "execute_result"
    }
   ],
   "source": [
    "bank.columns"
   ]
  },
  {
   "cell_type": "code",
   "execution_count": 9,
   "id": "4f4c327f",
   "metadata": {
    "ExecuteTime": {
     "end_time": "2021-12-02T09:32:05.668649Z",
     "start_time": "2021-12-02T09:32:05.630647Z"
    }
   },
   "outputs": [
    {
     "name": "stdout",
     "output_type": "stream",
     "text": [
      "<class 'pandas.core.frame.DataFrame'>\n",
      "RangeIndex: 250 entries, 0 to 249\n",
      "Data columns (total 7 columns):\n",
      " #   Column                  Non-Null Count  Dtype  \n",
      "---  ------                  --------------  -----  \n",
      " 0   industrial_risk         250 non-null    float64\n",
      " 1    management_risk        250 non-null    float64\n",
      " 2    financial_flexibility  250 non-null    float64\n",
      " 3    credibility            250 non-null    float64\n",
      " 4    competitiveness        250 non-null    float64\n",
      " 5    operating_risk         250 non-null    float64\n",
      " 6    class                  250 non-null    int32  \n",
      "dtypes: float64(6), int32(1)\n",
      "memory usage: 12.8 KB\n"
     ]
    }
   ],
   "source": [
    "bank.info()"
   ]
  },
  {
   "cell_type": "code",
   "execution_count": 10,
   "id": "f2136574",
   "metadata": {
    "ExecuteTime": {
     "end_time": "2021-12-02T09:32:05.687650Z",
     "start_time": "2021-12-02T09:32:05.675650Z"
    }
   },
   "outputs": [
    {
     "data": {
      "text/plain": [
       "industrial_risk           float64\n",
       " management_risk          float64\n",
       " financial_flexibility    float64\n",
       " credibility              float64\n",
       " competitiveness          float64\n",
       " operating_risk           float64\n",
       " class                      int32\n",
       "dtype: object"
      ]
     },
     "execution_count": 10,
     "metadata": {},
     "output_type": "execute_result"
    }
   ],
   "source": [
    "bank.dtypes"
   ]
  },
  {
   "cell_type": "code",
   "execution_count": 11,
   "id": "078b5bc6",
   "metadata": {
    "ExecuteTime": {
     "end_time": "2021-12-02T09:32:05.711652Z",
     "start_time": "2021-12-02T09:32:05.692651Z"
    }
   },
   "outputs": [
    {
     "data": {
      "text/plain": [
       "(147, 7)"
      ]
     },
     "execution_count": 11,
     "metadata": {},
     "output_type": "execute_result"
    }
   ],
   "source": [
    "bank[bank.duplicated()].shape "
   ]
  },
  {
   "cell_type": "code",
   "execution_count": 12,
   "id": "33aaf720",
   "metadata": {
    "ExecuteTime": {
     "end_time": "2021-12-02T09:32:05.943665Z",
     "start_time": "2021-12-02T09:32:05.720652Z"
    }
   },
   "outputs": [
    {
     "data": {
      "text/plain": [
       "(array([80.,  0.,  0.,  0.,  0., 81.,  0.,  0.,  0., 89.]),\n",
       " array([0. , 0.1, 0.2, 0.3, 0.4, 0.5, 0.6, 0.7, 0.8, 0.9, 1. ]),\n",
       " <BarContainer object of 10 artists>)"
      ]
     },
     "execution_count": 12,
     "metadata": {},
     "output_type": "execute_result"
    }
   ],
   "source": [
    "plt.hist(bank['industrial_risk'])"
   ]
  },
  {
   "cell_type": "code",
   "execution_count": 13,
   "id": "6f70a1a0",
   "metadata": {
    "ExecuteTime": {
     "end_time": "2021-12-02T09:32:06.002668Z",
     "start_time": "2021-12-02T09:32:05.945665Z"
    }
   },
   "outputs": [
    {
     "data": {
      "text/plain": [
       "{'whiskers': [<matplotlib.lines.Line2D at 0x3d65e9d0>,\n",
       "  <matplotlib.lines.Line2D at 0x3d65ec40>],\n",
       " 'caps': [<matplotlib.lines.Line2D at 0x3d65efa0>,\n",
       "  <matplotlib.lines.Line2D at 0x3d66d340>],\n",
       " 'boxes': [<matplotlib.lines.Line2D at 0x3d65e730>],\n",
       " 'medians': [<matplotlib.lines.Line2D at 0x3d66d6a0>],\n",
       " 'fliers': [<matplotlib.lines.Line2D at 0x3d66d9d0>],\n",
       " 'means': []}"
      ]
     },
     "execution_count": 13,
     "metadata": {},
     "output_type": "execute_result"
    }
   ],
   "source": [
    "plt.boxplot(bank['industrial_risk'])"
   ]
  },
  {
   "cell_type": "code",
   "execution_count": 14,
   "id": "a8ae492f",
   "metadata": {
    "ExecuteTime": {
     "end_time": "2021-12-02T09:32:06.056671Z",
     "start_time": "2021-12-02T09:32:06.008669Z"
    }
   },
   "outputs": [
    {
     "data": {
      "text/html": [
       "<div>\n",
       "<style scoped>\n",
       "    .dataframe tbody tr th:only-of-type {\n",
       "        vertical-align: middle;\n",
       "    }\n",
       "\n",
       "    .dataframe tbody tr th {\n",
       "        vertical-align: top;\n",
       "    }\n",
       "\n",
       "    .dataframe thead th {\n",
       "        text-align: right;\n",
       "    }\n",
       "</style>\n",
       "<table border=\"1\" class=\"dataframe\">\n",
       "  <thead>\n",
       "    <tr style=\"text-align: right;\">\n",
       "      <th></th>\n",
       "      <th>industrial_risk</th>\n",
       "      <th>management_risk</th>\n",
       "      <th>financial_flexibility</th>\n",
       "      <th>credibility</th>\n",
       "      <th>competitiveness</th>\n",
       "      <th>operating_risk</th>\n",
       "      <th>class</th>\n",
       "    </tr>\n",
       "  </thead>\n",
       "  <tbody>\n",
       "    <tr>\n",
       "      <th>count</th>\n",
       "      <td>250.000000</td>\n",
       "      <td>250.000000</td>\n",
       "      <td>250.000000</td>\n",
       "      <td>250.000000</td>\n",
       "      <td>250.000000</td>\n",
       "      <td>250.000000</td>\n",
       "      <td>250.000000</td>\n",
       "    </tr>\n",
       "    <tr>\n",
       "      <th>mean</th>\n",
       "      <td>0.518000</td>\n",
       "      <td>0.614000</td>\n",
       "      <td>0.376000</td>\n",
       "      <td>0.470000</td>\n",
       "      <td>0.476000</td>\n",
       "      <td>0.570000</td>\n",
       "      <td>0.572000</td>\n",
       "    </tr>\n",
       "    <tr>\n",
       "      <th>std</th>\n",
       "      <td>0.411526</td>\n",
       "      <td>0.410705</td>\n",
       "      <td>0.401583</td>\n",
       "      <td>0.415682</td>\n",
       "      <td>0.440682</td>\n",
       "      <td>0.434575</td>\n",
       "      <td>0.495781</td>\n",
       "    </tr>\n",
       "    <tr>\n",
       "      <th>min</th>\n",
       "      <td>0.000000</td>\n",
       "      <td>0.000000</td>\n",
       "      <td>0.000000</td>\n",
       "      <td>0.000000</td>\n",
       "      <td>0.000000</td>\n",
       "      <td>0.000000</td>\n",
       "      <td>0.000000</td>\n",
       "    </tr>\n",
       "    <tr>\n",
       "      <th>25%</th>\n",
       "      <td>0.000000</td>\n",
       "      <td>0.500000</td>\n",
       "      <td>0.000000</td>\n",
       "      <td>0.000000</td>\n",
       "      <td>0.000000</td>\n",
       "      <td>0.000000</td>\n",
       "      <td>0.000000</td>\n",
       "    </tr>\n",
       "    <tr>\n",
       "      <th>50%</th>\n",
       "      <td>0.500000</td>\n",
       "      <td>0.500000</td>\n",
       "      <td>0.500000</td>\n",
       "      <td>0.500000</td>\n",
       "      <td>0.500000</td>\n",
       "      <td>0.500000</td>\n",
       "      <td>1.000000</td>\n",
       "    </tr>\n",
       "    <tr>\n",
       "      <th>75%</th>\n",
       "      <td>1.000000</td>\n",
       "      <td>1.000000</td>\n",
       "      <td>0.500000</td>\n",
       "      <td>1.000000</td>\n",
       "      <td>1.000000</td>\n",
       "      <td>1.000000</td>\n",
       "      <td>1.000000</td>\n",
       "    </tr>\n",
       "    <tr>\n",
       "      <th>max</th>\n",
       "      <td>1.000000</td>\n",
       "      <td>1.000000</td>\n",
       "      <td>1.000000</td>\n",
       "      <td>1.000000</td>\n",
       "      <td>1.000000</td>\n",
       "      <td>1.000000</td>\n",
       "      <td>1.000000</td>\n",
       "    </tr>\n",
       "  </tbody>\n",
       "</table>\n",
       "</div>"
      ],
      "text/plain": [
       "       industrial_risk   management_risk   financial_flexibility  \\\n",
       "count       250.000000        250.000000              250.000000   \n",
       "mean          0.518000          0.614000                0.376000   \n",
       "std           0.411526          0.410705                0.401583   \n",
       "min           0.000000          0.000000                0.000000   \n",
       "25%           0.000000          0.500000                0.000000   \n",
       "50%           0.500000          0.500000                0.500000   \n",
       "75%           1.000000          1.000000                0.500000   \n",
       "max           1.000000          1.000000                1.000000   \n",
       "\n",
       "        credibility   competitiveness   operating_risk       class  \n",
       "count    250.000000        250.000000       250.000000  250.000000  \n",
       "mean       0.470000          0.476000         0.570000    0.572000  \n",
       "std        0.415682          0.440682         0.434575    0.495781  \n",
       "min        0.000000          0.000000         0.000000    0.000000  \n",
       "25%        0.000000          0.000000         0.000000    0.000000  \n",
       "50%        0.500000          0.500000         0.500000    1.000000  \n",
       "75%        1.000000          1.000000         1.000000    1.000000  \n",
       "max        1.000000          1.000000         1.000000    1.000000  "
      ]
     },
     "execution_count": 14,
     "metadata": {},
     "output_type": "execute_result"
    }
   ],
   "source": [
    "bank.describe()"
   ]
  },
  {
   "cell_type": "code",
   "execution_count": 15,
   "id": "1df04874",
   "metadata": {
    "ExecuteTime": {
     "end_time": "2021-12-02T09:32:06.068672Z",
     "start_time": "2021-12-02T09:32:06.058672Z"
    }
   },
   "outputs": [
    {
     "data": {
      "text/plain": [
       "industrial_risk           0\n",
       " management_risk          0\n",
       " financial_flexibility    0\n",
       " credibility              0\n",
       " competitiveness          0\n",
       " operating_risk           0\n",
       " class                    0\n",
       "dtype: int64"
      ]
     },
     "execution_count": 15,
     "metadata": {},
     "output_type": "execute_result"
    }
   ],
   "source": [
    "bank.isnull().sum()"
   ]
  },
  {
   "cell_type": "code",
   "execution_count": 16,
   "id": "e64ba516",
   "metadata": {
    "ExecuteTime": {
     "end_time": "2021-12-02T09:32:15.437208Z",
     "start_time": "2021-12-02T09:32:06.071672Z"
    }
   },
   "outputs": [
    {
     "data": {
      "text/plain": [
       "<seaborn.axisgrid.PairGrid at 0x3d67ad90>"
      ]
     },
     "execution_count": 16,
     "metadata": {},
     "output_type": "execute_result"
    }
   ],
   "source": [
    "import seaborn as sns\n",
    "sns.pairplot(bank)"
   ]
  },
  {
   "cell_type": "code",
   "execution_count": 17,
   "id": "2fd7d29c",
   "metadata": {
    "ExecuteTime": {
     "end_time": "2021-12-02T09:32:18.706395Z",
     "start_time": "2021-12-02T09:32:15.439208Z"
    }
   },
   "outputs": [
    {
     "data": {
      "text/plain": [
       "<AxesSubplot:label='090ce029-4c4a-4fda-943b-50eca3798cf5'>"
      ]
     },
     "execution_count": 17,
     "metadata": {},
     "output_type": "execute_result"
    }
   ],
   "source": [
    "import seaborn as sns\n",
    "cols = bank.columns \n",
    "colours = ['#000099', '#ffff00']\n",
    "sns.heatmap(bank[cols].isnull(),\n",
    "            cmap=sns.color_palette(colours)) "
   ]
  },
  {
   "cell_type": "code",
   "execution_count": 18,
   "id": "0f840ee8",
   "metadata": {
    "ExecuteTime": {
     "end_time": "2021-12-02T09:32:18.737397Z",
     "start_time": "2021-12-02T09:32:18.708395Z"
    }
   },
   "outputs": [
    {
     "data": {
      "text/html": [
       "<div>\n",
       "<style scoped>\n",
       "    .dataframe tbody tr th:only-of-type {\n",
       "        vertical-align: middle;\n",
       "    }\n",
       "\n",
       "    .dataframe tbody tr th {\n",
       "        vertical-align: top;\n",
       "    }\n",
       "\n",
       "    .dataframe thead th {\n",
       "        text-align: right;\n",
       "    }\n",
       "</style>\n",
       "<table border=\"1\" class=\"dataframe\">\n",
       "  <thead>\n",
       "    <tr style=\"text-align: right;\">\n",
       "      <th></th>\n",
       "      <th>industrial_risk</th>\n",
       "      <th>management_risk</th>\n",
       "      <th>financial_flexibility</th>\n",
       "      <th>credibility</th>\n",
       "      <th>competitiveness</th>\n",
       "      <th>operating_risk</th>\n",
       "      <th>class</th>\n",
       "    </tr>\n",
       "  </thead>\n",
       "  <tbody>\n",
       "    <tr>\n",
       "      <th>industrial_risk</th>\n",
       "      <td>1.000000</td>\n",
       "      <td>0.255127</td>\n",
       "      <td>-0.162624</td>\n",
       "      <td>-0.014438</td>\n",
       "      <td>-0.257814</td>\n",
       "      <td>0.144507</td>\n",
       "      <td>-0.227823</td>\n",
       "    </tr>\n",
       "    <tr>\n",
       "      <th>management_risk</th>\n",
       "      <td>0.255127</td>\n",
       "      <td>1.000000</td>\n",
       "      <td>-0.254845</td>\n",
       "      <td>-0.303341</td>\n",
       "      <td>-0.306568</td>\n",
       "      <td>0.213874</td>\n",
       "      <td>-0.370838</td>\n",
       "    </tr>\n",
       "    <tr>\n",
       "      <th>financial_flexibility</th>\n",
       "      <td>-0.162624</td>\n",
       "      <td>-0.254845</td>\n",
       "      <td>1.000000</td>\n",
       "      <td>0.524951</td>\n",
       "      <td>0.686612</td>\n",
       "      <td>-0.116903</td>\n",
       "      <td>0.751020</td>\n",
       "    </tr>\n",
       "    <tr>\n",
       "      <th>credibility</th>\n",
       "      <td>-0.014438</td>\n",
       "      <td>-0.303341</td>\n",
       "      <td>0.524951</td>\n",
       "      <td>1.000000</td>\n",
       "      <td>0.675689</td>\n",
       "      <td>-0.288458</td>\n",
       "      <td>0.755909</td>\n",
       "    </tr>\n",
       "    <tr>\n",
       "      <th>competitiveness</th>\n",
       "      <td>-0.257814</td>\n",
       "      <td>-0.306568</td>\n",
       "      <td>0.686612</td>\n",
       "      <td>0.675689</td>\n",
       "      <td>1.000000</td>\n",
       "      <td>-0.211383</td>\n",
       "      <td>0.899452</td>\n",
       "    </tr>\n",
       "    <tr>\n",
       "      <th>operating_risk</th>\n",
       "      <td>0.144507</td>\n",
       "      <td>0.213874</td>\n",
       "      <td>-0.116903</td>\n",
       "      <td>-0.288458</td>\n",
       "      <td>-0.211383</td>\n",
       "      <td>1.000000</td>\n",
       "      <td>-0.279786</td>\n",
       "    </tr>\n",
       "    <tr>\n",
       "      <th>class</th>\n",
       "      <td>-0.227823</td>\n",
       "      <td>-0.370838</td>\n",
       "      <td>0.751020</td>\n",
       "      <td>0.755909</td>\n",
       "      <td>0.899452</td>\n",
       "      <td>-0.279786</td>\n",
       "      <td>1.000000</td>\n",
       "    </tr>\n",
       "  </tbody>\n",
       "</table>\n",
       "</div>"
      ],
      "text/plain": [
       "                        industrial_risk   management_risk  \\\n",
       "industrial_risk                1.000000          0.255127   \n",
       " management_risk               0.255127          1.000000   \n",
       " financial_flexibility        -0.162624         -0.254845   \n",
       " credibility                  -0.014438         -0.303341   \n",
       " competitiveness              -0.257814         -0.306568   \n",
       " operating_risk                0.144507          0.213874   \n",
       " class                        -0.227823         -0.370838   \n",
       "\n",
       "                         financial_flexibility   credibility  \\\n",
       "industrial_risk                      -0.162624     -0.014438   \n",
       " management_risk                     -0.254845     -0.303341   \n",
       " financial_flexibility                1.000000      0.524951   \n",
       " credibility                          0.524951      1.000000   \n",
       " competitiveness                      0.686612      0.675689   \n",
       " operating_risk                      -0.116903     -0.288458   \n",
       " class                                0.751020      0.755909   \n",
       "\n",
       "                         competitiveness   operating_risk     class  \n",
       "industrial_risk                -0.257814         0.144507 -0.227823  \n",
       " management_risk               -0.306568         0.213874 -0.370838  \n",
       " financial_flexibility          0.686612        -0.116903  0.751020  \n",
       " credibility                    0.675689        -0.288458  0.755909  \n",
       " competitiveness                1.000000        -0.211383  0.899452  \n",
       " operating_risk                -0.211383         1.000000 -0.279786  \n",
       " class                          0.899452        -0.279786  1.000000  "
      ]
     },
     "execution_count": 18,
     "metadata": {},
     "output_type": "execute_result"
    }
   ],
   "source": [
    "bank.corr()"
   ]
  },
  {
   "cell_type": "code",
   "execution_count": 19,
   "id": "4c1a6a1a",
   "metadata": {
    "ExecuteTime": {
     "end_time": "2021-12-02T09:32:22.549615Z",
     "start_time": "2021-12-02T09:32:18.740397Z"
    }
   },
   "outputs": [
    {
     "data": {
      "application/vnd.jupyter.widget-view+json": {
       "model_id": "9b54d4cfd2b34096b6d7217c040eb50a",
       "version_major": 2,
       "version_minor": 0
      },
      "text/plain": [
       "                                             |          | [  0%]   00:00 -> (? left)"
      ]
     },
     "metadata": {},
     "output_type": "display_data"
    },
    {
     "name": "stdout",
     "output_type": "stream",
     "text": [
      "Report fraudcheck.html was generated! NOTEBOOK/COLAB USERS: the web browser MAY not pop up, regardless, the report IS saved in your notebook/colab files.\n"
     ]
    }
   ],
   "source": [
    "sweet_report = sv.analyze(bank)\n",
    "sweet_report.show_html('fraudcheck.html')  "
   ]
  },
  {
   "cell_type": "markdown",
   "id": "e1c30776",
   "metadata": {},
   "source": [
    "# Model building"
   ]
  },
  {
   "cell_type": "code",
   "execution_count": 20,
   "id": "1f1f8cae",
   "metadata": {
    "ExecuteTime": {
     "end_time": "2021-12-02T09:32:22.567616Z",
     "start_time": "2021-12-02T09:32:22.558615Z"
    }
   },
   "outputs": [],
   "source": [
    "x=bank.iloc[:,[0,1,2,3,4,5]] \n",
    "y=bank.iloc[:,6]"
   ]
  },
  {
   "cell_type": "code",
   "execution_count": 21,
   "id": "ea529c41",
   "metadata": {
    "ExecuteTime": {
     "end_time": "2021-12-02T09:32:22.597618Z",
     "start_time": "2021-12-02T09:32:22.574616Z"
    }
   },
   "outputs": [],
   "source": [
    "x_train,x_test,y_train,y_test=train_test_split(x,y,test_size=0.32,random_state=40)"
   ]
  },
  {
   "cell_type": "markdown",
   "id": "0389751b",
   "metadata": {},
   "source": [
    "# Logistic regresion"
   ]
  },
  {
   "cell_type": "code",
   "execution_count": 22,
   "id": "70da4faa",
   "metadata": {
    "ExecuteTime": {
     "end_time": "2021-12-02T09:32:22.704624Z",
     "start_time": "2021-12-02T09:32:22.600618Z"
    }
   },
   "outputs": [
    {
     "data": {
      "text/plain": [
       "LogisticRegression()"
      ]
     },
     "execution_count": 22,
     "metadata": {},
     "output_type": "execute_result"
    }
   ],
   "source": [
    "from sklearn.linear_model import LogisticRegression\n",
    "from sklearn import metrics\n",
    "from sklearn.metrics import classification_report\n",
    "from sklearn.metrics import confusion_matrix\n",
    "classifier=LogisticRegression()\n",
    "classifier.fit(x_train,y_train)"
   ]
  },
  {
   "cell_type": "code",
   "execution_count": 23,
   "id": "391a3849",
   "metadata": {
    "ExecuteTime": {
     "end_time": "2021-12-02T09:32:22.728625Z",
     "start_time": "2021-12-02T09:32:22.713624Z"
    }
   },
   "outputs": [
    {
     "data": {
      "text/plain": [
       "array([[-0.55226799, -0.82926641,  2.33254177,  2.13806006,  3.57064533,\n",
       "        -0.47416656]])"
      ]
     },
     "execution_count": 23,
     "metadata": {},
     "output_type": "execute_result"
    }
   ],
   "source": [
    "classifier.coef_"
   ]
  },
  {
   "cell_type": "code",
   "execution_count": 24,
   "id": "8d360df4",
   "metadata": {
    "ExecuteTime": {
     "end_time": "2021-12-02T09:32:22.758627Z",
     "start_time": "2021-12-02T09:32:22.732625Z"
    }
   },
   "outputs": [
    {
     "data": {
      "text/plain": [
       "array([[0.92764037, 0.07235963],\n",
       "       [0.04254277, 0.95745723],\n",
       "       [0.94927397, 0.05072603],\n",
       "       [0.96716717, 0.03283283],\n",
       "       [0.33160821, 0.66839179],\n",
       "       [0.00187565, 0.99812435],\n",
       "       [0.41144318, 0.58855682],\n",
       "       [0.18699916, 0.81300084],\n",
       "       [0.01445931, 0.98554069],\n",
       "       [0.95874524, 0.04125476],\n",
       "       [0.94217442, 0.05782558],\n",
       "       [0.03732463, 0.96267537],\n",
       "       [0.92093301, 0.07906699],\n",
       "       [0.92083559, 0.07916441],\n",
       "       [0.0762292 , 0.9237708 ],\n",
       "       [0.06694693, 0.93305307],\n",
       "       [0.06957064, 0.93042936],\n",
       "       [0.91002271, 0.08997729],\n",
       "       [0.92764037, 0.07235963],\n",
       "       [0.00599598, 0.99400402],\n",
       "       [0.00599598, 0.99400402],\n",
       "       [0.91002271, 0.08997729],\n",
       "       [0.95717271, 0.04282729],\n",
       "       [0.80931959, 0.19068041],\n",
       "       [0.73988128, 0.26011872],\n",
       "       [0.97391657, 0.02608343],\n",
       "       [0.04525224, 0.95474776],\n",
       "       [0.05169316, 0.94830684],\n",
       "       [0.97391657, 0.02608343],\n",
       "       [0.95554301, 0.04445699],\n",
       "       [0.92093301, 0.07906699],\n",
       "       [0.81486927, 0.18513073],\n",
       "       [0.94927397, 0.05072603],\n",
       "       [0.81486927, 0.18513073],\n",
       "       [0.19356146, 0.80643854],\n",
       "       [0.20941612, 0.79058388],\n",
       "       [0.01502647, 0.98497353],\n",
       "       [0.92764037, 0.07235963],\n",
       "       [0.94217442, 0.05782558],\n",
       "       [0.00959868, 0.99040132],\n",
       "       [0.00939345, 0.99060655],\n",
       "       [0.97391657, 0.02608343],\n",
       "       [0.01313707, 0.98686293],\n",
       "       [0.94927397, 0.05072603],\n",
       "       [0.94927397, 0.05072603],\n",
       "       [0.03732463, 0.96267537],\n",
       "       [0.95874524, 0.04125476],\n",
       "       [0.97391657, 0.02608343],\n",
       "       [0.97391657, 0.02608343],\n",
       "       [0.95717271, 0.04282729],\n",
       "       [0.92083559, 0.07916441],\n",
       "       [0.06302424, 0.93697576],\n",
       "       [0.12130125, 0.87869875],\n",
       "       [0.09480751, 0.90519249],\n",
       "       [0.00521759, 0.99478241],\n",
       "       [0.96716717, 0.03283283],\n",
       "       [0.02755179, 0.97244821],\n",
       "       [0.18699916, 0.81300084],\n",
       "       [0.09480751, 0.90519249],\n",
       "       [0.01190828, 0.98809172],\n",
       "       [0.9342033 , 0.0657967 ],\n",
       "       [0.01502647, 0.98497353],\n",
       "       [0.01726562, 0.98273438],\n",
       "       [0.9342033 , 0.0657967 ],\n",
       "       [0.02345087, 0.97654913],\n",
       "       [0.06957064, 0.93042936],\n",
       "       [0.95554301, 0.04445699],\n",
       "       [0.94927397, 0.05072603],\n",
       "       [0.01189249, 0.98810751],\n",
       "       [0.06686346, 0.93313654],\n",
       "       [0.97391657, 0.02608343],\n",
       "       [0.04525224, 0.95474776],\n",
       "       [0.96590424, 0.03409576],\n",
       "       [0.73988128, 0.26011872],\n",
       "       [0.1728543 , 0.8271457 ],\n",
       "       [0.93044797, 0.06955203],\n",
       "       [0.00521759, 0.99478241],\n",
       "       [0.96716717, 0.03283283],\n",
       "       [0.9610367 , 0.0389633 ],\n",
       "       [0.0054434 , 0.9945566 ],\n",
       "       [0.07189365, 0.92810635],\n",
       "       [0.94217442, 0.05782558],\n",
       "       [0.9342033 , 0.0657967 ],\n",
       "       [0.00959868, 0.99040132],\n",
       "       [0.90365317, 0.09634683],\n",
       "       [0.0347124 , 0.9652876 ],\n",
       "       [0.0371494 , 0.9628506 ],\n",
       "       [0.27830881, 0.72169119],\n",
       "       [0.03382347, 0.96617653],\n",
       "       [0.95554301, 0.04445699],\n",
       "       [0.96716717, 0.03283283],\n",
       "       [0.22620515, 0.77379485],\n",
       "       [0.0347124 , 0.9652876 ],\n",
       "       [0.94217442, 0.05782558],\n",
       "       [0.13205336, 0.86794664],\n",
       "       [0.33841937, 0.66158063],\n",
       "       [0.04668465, 0.95331535],\n",
       "       [0.95554301, 0.04445699],\n",
       "       [0.08336517, 0.91663483],\n",
       "       [0.93884425, 0.06115575],\n",
       "       [0.92764037, 0.07235963],\n",
       "       [0.73258918, 0.26741082],\n",
       "       [0.93884425, 0.06115575],\n",
       "       [0.00687142, 0.99312858],\n",
       "       [0.95874524, 0.04125476],\n",
       "       [0.04674447, 0.95325553],\n",
       "       [0.95874524, 0.04125476],\n",
       "       [0.00473008, 0.99526992],\n",
       "       [0.00454975, 0.99545025],\n",
       "       [0.00187565, 0.99812435],\n",
       "       [0.0110786 , 0.9889214 ],\n",
       "       [0.80931959, 0.19068041],\n",
       "       [0.40116867, 0.59883133],\n",
       "       [0.96716717, 0.03283283],\n",
       "       [0.00428792, 0.99571208],\n",
       "       [0.00428792, 0.99571208],\n",
       "       [0.93044797, 0.06955203],\n",
       "       [0.22620515, 0.77379485],\n",
       "       [0.40116867, 0.59883133],\n",
       "       [0.97391657, 0.02608343],\n",
       "       [0.00247068, 0.99752932],\n",
       "       [0.05325031, 0.94674969],\n",
       "       [0.92516076, 0.07483924],\n",
       "       [0.12062223, 0.87937777],\n",
       "       [0.92083559, 0.07916441],\n",
       "       [0.93044797, 0.06955203],\n",
       "       [0.96590424, 0.03409576],\n",
       "       [0.00939345, 0.99060655],\n",
       "       [0.10102196, 0.89897804],\n",
       "       [0.00599598, 0.99400402],\n",
       "       [0.02345087, 0.97654913],\n",
       "       [0.04674447, 0.95325553],\n",
       "       [0.00716214, 0.99283786],\n",
       "       [0.0762292 , 0.9237708 ],\n",
       "       [0.08336517, 0.91663483],\n",
       "       [0.06901643, 0.93098357],\n",
       "       [0.96716717, 0.03283283],\n",
       "       [0.01365309, 0.98634691],\n",
       "       [0.95554301, 0.04445699],\n",
       "       [0.00871699, 0.99128301],\n",
       "       [0.13205336, 0.86794664],\n",
       "       [0.96590424, 0.03409576],\n",
       "       [0.95717271, 0.04282729],\n",
       "       [0.73988128, 0.26011872],\n",
       "       [0.02745268, 0.97254732],\n",
       "       [0.05039179, 0.94960821],\n",
       "       [0.02745268, 0.97254732],\n",
       "       [0.88863059, 0.11136941],\n",
       "       [0.06686346, 0.93313654],\n",
       "       [0.1728543 , 0.8271457 ],\n",
       "       [0.73988128, 0.26011872],\n",
       "       [0.01726562, 0.98273438],\n",
       "       [0.95554301, 0.04445699],\n",
       "       [0.9610367 , 0.0389633 ],\n",
       "       [0.03261245, 0.96738755],\n",
       "       [0.03261245, 0.96738755],\n",
       "       [0.91002271, 0.08997729],\n",
       "       [0.93884425, 0.06115575],\n",
       "       [0.07856147, 0.92143853],\n",
       "       [0.91804237, 0.08195763],\n",
       "       [0.0315975 , 0.9684025 ],\n",
       "       [0.97391657, 0.02608343],\n",
       "       [0.96590424, 0.03409576],\n",
       "       [0.04089356, 0.95910644],\n",
       "       [0.95717271, 0.04282729],\n",
       "       [0.04525224, 0.95474776],\n",
       "       [0.04089356, 0.95910644],\n",
       "       [0.96716717, 0.03283283],\n",
       "       [0.01187679, 0.98812321],\n",
       "       [0.96590424, 0.03409576]])"
      ]
     },
     "execution_count": 24,
     "metadata": {},
     "output_type": "execute_result"
    }
   ],
   "source": [
    "classifier.predict_proba(x_train)"
   ]
  },
  {
   "cell_type": "code",
   "execution_count": 25,
   "id": "fef7219d",
   "metadata": {
    "ExecuteTime": {
     "end_time": "2021-12-02T09:32:22.785628Z",
     "start_time": "2021-12-02T09:32:22.771627Z"
    }
   },
   "outputs": [
    {
     "data": {
      "text/plain": [
       "array([0, 1, 0, 0, 1, 1, 1, 1, 1, 0, 0, 1, 0, 0, 1, 1, 1, 0, 0, 1, 1, 0,\n",
       "       0, 0, 0, 0, 1, 1, 0, 0, 0, 0, 0, 0, 1, 1, 1, 0, 0, 1, 1, 0, 1, 0,\n",
       "       0, 1, 0, 0, 0, 0, 0, 1, 1, 1, 1, 0, 1, 1, 1, 1, 0, 1, 1, 0, 1, 1,\n",
       "       0, 0, 1, 1, 0, 1, 0, 0, 1, 0, 1, 0, 0, 1, 1, 0, 0, 1, 0, 1, 1, 1,\n",
       "       1, 0, 0, 1, 1, 0, 1, 1, 1, 0, 1, 0, 0, 0, 0, 1, 0, 1, 0, 1, 1, 1,\n",
       "       1, 0, 1, 0, 1, 1, 0, 1, 1, 0, 1, 1, 0, 1, 0, 0, 0, 1, 1, 1, 1, 1,\n",
       "       1, 1, 1, 1, 0, 1, 0, 1, 1, 0, 0, 0, 1, 1, 1, 0, 1, 1, 0, 1, 0, 0,\n",
       "       1, 1, 0, 0, 1, 0, 1, 0, 0, 1, 0, 1, 1, 0, 1, 0])"
      ]
     },
     "execution_count": 25,
     "metadata": {},
     "output_type": "execute_result"
    }
   ],
   "source": [
    "y_pred1=classifier.predict(x_train)\n",
    "y_pred1"
   ]
  },
  {
   "cell_type": "code",
   "execution_count": 26,
   "id": "6b2d504f",
   "metadata": {
    "ExecuteTime": {
     "end_time": "2021-12-02T09:32:22.816630Z",
     "start_time": "2021-12-02T09:32:22.792629Z"
    }
   },
   "outputs": [
    {
     "data": {
      "text/plain": [
       "array([0, 1, 0, 0, 1, 0, 1, 1, 0, 1, 1, 0, 1, 0, 1, 1, 1, 1, 0, 1, 1, 1,\n",
       "       0, 1, 1, 1, 0, 1, 1, 1, 1, 1, 0, 1, 0, 0, 1, 1, 1, 0, 0, 0, 0, 0,\n",
       "       1, 1, 1, 1, 0, 1, 1, 1, 0, 1, 0, 1, 1, 1, 1, 1, 1, 1, 0, 1, 1, 1,\n",
       "       0, 1, 1, 0, 1, 1, 0, 0, 1, 1, 1, 1, 1, 0])"
      ]
     },
     "execution_count": 26,
     "metadata": {},
     "output_type": "execute_result"
    }
   ],
   "source": [
    "y_pred2=classifier.predict(x_test)\n",
    "y_pred2"
   ]
  },
  {
   "cell_type": "code",
   "execution_count": 27,
   "id": "9a65e78b",
   "metadata": {
    "ExecuteTime": {
     "end_time": "2021-12-02T09:32:22.839631Z",
     "start_time": "2021-12-02T09:32:22.820630Z"
    }
   },
   "outputs": [
    {
     "name": "stdout",
     "output_type": "stream",
     "text": [
      "[[79  1]\n",
      " [ 0 90]]\n"
     ]
    }
   ],
   "source": [
    "from sklearn.metrics import confusion_matrix\n",
    "confusion_matrix = confusion_matrix(y_train,y_pred1)\n",
    "print (confusion_matrix) \n"
   ]
  },
  {
   "cell_type": "code",
   "execution_count": 28,
   "id": "6e3ddf00",
   "metadata": {
    "ExecuteTime": {
     "end_time": "2021-12-02T09:32:22.863633Z",
     "start_time": "2021-12-02T09:32:22.842632Z"
    }
   },
   "outputs": [
    {
     "name": "stdout",
     "output_type": "stream",
     "text": [
      "[[27  0]\n",
      " [ 0 53]]\n"
     ]
    }
   ],
   "source": [
    "from sklearn.metrics import confusion_matrix\n",
    "confusion_matrix = confusion_matrix(y_test,y_pred2)\n",
    "print (confusion_matrix) \n"
   ]
  },
  {
   "cell_type": "code",
   "execution_count": 29,
   "id": "1c15114c",
   "metadata": {
    "ExecuteTime": {
     "end_time": "2021-12-02T09:32:22.884634Z",
     "start_time": "2021-12-02T09:32:22.867633Z"
    }
   },
   "outputs": [
    {
     "data": {
      "text/plain": [
       "0.9941176470588236"
      ]
     },
     "execution_count": 29,
     "metadata": {},
     "output_type": "execute_result"
    }
   ],
   "source": [
    "train_accuracy = sum(y_train==y_pred1)/170\n",
    "train_accuracy"
   ]
  },
  {
   "cell_type": "code",
   "execution_count": 30,
   "id": "57f9209a",
   "metadata": {
    "ExecuteTime": {
     "end_time": "2021-12-02T09:32:22.901635Z",
     "start_time": "2021-12-02T09:32:22.890634Z"
    }
   },
   "outputs": [
    {
     "data": {
      "text/plain": [
       "1.0"
      ]
     },
     "execution_count": 30,
     "metadata": {},
     "output_type": "execute_result"
    }
   ],
   "source": [
    "test_accuracy = sum(y_test==y_pred2)/80\n",
    "test_accuracy "
   ]
  },
  {
   "cell_type": "code",
   "execution_count": 31,
   "id": "9797fc16",
   "metadata": {
    "ExecuteTime": {
     "end_time": "2021-12-02T09:32:22.927636Z",
     "start_time": "2021-12-02T09:32:22.911635Z"
    }
   },
   "outputs": [
    {
     "name": "stdout",
     "output_type": "stream",
     "text": [
      "              precision    recall  f1-score   support\n",
      "\n",
      "           0       1.00      0.99      0.99        80\n",
      "           1       0.99      1.00      0.99        90\n",
      "\n",
      "    accuracy                           0.99       170\n",
      "   macro avg       0.99      0.99      0.99       170\n",
      "weighted avg       0.99      0.99      0.99       170\n",
      "\n"
     ]
    }
   ],
   "source": [
    "print (classification_report (y_train, y_pred1))  "
   ]
  },
  {
   "cell_type": "code",
   "execution_count": 32,
   "id": "3a7adae9",
   "metadata": {
    "ExecuteTime": {
     "end_time": "2021-12-02T09:32:22.975639Z",
     "start_time": "2021-12-02T09:32:22.935637Z"
    }
   },
   "outputs": [
    {
     "name": "stdout",
     "output_type": "stream",
     "text": [
      "              precision    recall  f1-score   support\n",
      "\n",
      "           0       1.00      1.00      1.00        27\n",
      "           1       1.00      1.00      1.00        53\n",
      "\n",
      "    accuracy                           1.00        80\n",
      "   macro avg       1.00      1.00      1.00        80\n",
      "weighted avg       1.00      1.00      1.00        80\n",
      "\n"
     ]
    }
   ],
   "source": [
    " print (classification_report (y_test, y_pred2))  "
   ]
  },
  {
   "cell_type": "code",
   "execution_count": 33,
   "id": "d01e7dd1",
   "metadata": {
    "ExecuteTime": {
     "end_time": "2021-12-02T09:32:23.001641Z",
     "start_time": "2021-12-02T09:32:22.982640Z"
    }
   },
   "outputs": [
    {
     "data": {
      "text/plain": [
       "0.99375"
      ]
     },
     "execution_count": 33,
     "metadata": {},
     "output_type": "execute_result"
    }
   ],
   "source": [
    "from sklearn.metrics import roc_auc_score\n",
    "from sklearn.metrics import roc_curve\n",
    "Logit_roc_score=roc_auc_score(y_train,classifier.predict(x_train))\n",
    "Logit_roc_score  "
   ]
  },
  {
   "cell_type": "code",
   "execution_count": 34,
   "id": "a2b1ab8e",
   "metadata": {
    "ExecuteTime": {
     "end_time": "2021-12-02T09:32:23.042643Z",
     "start_time": "2021-12-02T09:32:23.018642Z"
    }
   },
   "outputs": [
    {
     "data": {
      "text/plain": [
       "1.0"
      ]
     },
     "execution_count": 34,
     "metadata": {},
     "output_type": "execute_result"
    }
   ],
   "source": [
    "Logit_roc_score=roc_auc_score(y_test,classifier.predict(x_test))\n",
    "Logit_roc_score  "
   ]
  },
  {
   "cell_type": "code",
   "execution_count": 35,
   "id": "73d53cd7",
   "metadata": {
    "ExecuteTime": {
     "end_time": "2021-12-02T09:32:23.262656Z",
     "start_time": "2021-12-02T09:32:23.045643Z"
    }
   },
   "outputs": [
    {
     "name": "stderr",
     "output_type": "stream",
     "text": [
      "<ipython-input-35-85ad1a712cad>:10: UserWarning: Matplotlib is currently using agg, which is a non-GUI backend, so cannot show the figure.\n",
      "  plt.show()\n"
     ]
    }
   ],
   "source": [
    "fpr, tpr, thresholds = roc_curve(y_test,classifier.predict_proba(x_test)[:,1]) \n",
    "plt.plot(fpr, tpr, label='Logistic Regression (area=%0.2f)'% Logit_roc_score)\n",
    "plt.plot([0, 1], [0, 1],'r--')\n",
    "plt.xlim([0.0, 1.0])\n",
    "plt.ylim([0.0, 1.05])\n",
    "plt.xlabel('False Positive Rate')\n",
    "plt.ylabel('True Positive Rate')\n",
    "plt.title('Receiver operating characteristic')\n",
    "plt.legend(loc=\"lower right\")\n",
    "plt.show()   "
   ]
  },
  {
   "cell_type": "code",
   "execution_count": 36,
   "id": "e0d1b04d",
   "metadata": {
    "ExecuteTime": {
     "end_time": "2021-12-02T09:32:23.789686Z",
     "start_time": "2021-12-02T09:32:23.264656Z"
    }
   },
   "outputs": [
    {
     "name": "stdout",
     "output_type": "stream",
     "text": [
      "Warning: Maximum number of iterations has been exceeded.\n",
      "         Current function value: 0.000002\n",
      "         Iterations: 35\n"
     ]
    },
    {
     "name": "stderr",
     "output_type": "stream",
     "text": [
      "D:\\jup\\lib\\site-packages\\statsmodels\\base\\model.py:566: ConvergenceWarning: Maximum Likelihood optimization failed to converge. Check mle_retvals\n",
      "  warnings.warn(\"Maximum Likelihood optimization failed to \"\n"
     ]
    },
    {
     "data": {
      "text/html": [
       "<table class=\"simpletable\">\n",
       "<caption>Logit Regression Results</caption>\n",
       "<tr>\n",
       "  <th>Dep. Variable:</th>        <td> class</td>      <th>  No. Observations:  </th>   <td>   250</td>   \n",
       "</tr>\n",
       "<tr>\n",
       "  <th>Model:</th>                 <td>Logit</td>      <th>  Df Residuals:      </th>   <td>   244</td>   \n",
       "</tr>\n",
       "<tr>\n",
       "  <th>Method:</th>                 <td>MLE</td>       <th>  Df Model:          </th>   <td>     5</td>   \n",
       "</tr>\n",
       "<tr>\n",
       "  <th>Date:</th>            <td>Thu, 02 Dec 2021</td> <th>  Pseudo R-squ.:     </th>   <td> 1.000</td>   \n",
       "</tr>\n",
       "<tr>\n",
       "  <th>Time:</th>                <td>15:02:23</td>     <th>  Log-Likelihood:    </th> <td>-0.00058593</td>\n",
       "</tr>\n",
       "<tr>\n",
       "  <th>converged:</th>             <td>False</td>      <th>  LL-Null:           </th>  <td> -170.69</td>  \n",
       "</tr>\n",
       "<tr>\n",
       "  <th>Covariance Type:</th>     <td>nonrobust</td>    <th>  LLR p-value:       </th>  <td>1.261e-71</td> \n",
       "</tr>\n",
       "</table>\n",
       "<table class=\"simpletable\">\n",
       "<tr>\n",
       "             <td></td>               <th>coef</th>     <th>std err</th>      <th>z</th>      <th>P>|z|</th>  <th>[0.025</th>    <th>0.975]</th>  \n",
       "</tr>\n",
       "<tr>\n",
       "  <th>industrial_risk</th>        <td>   12.9189</td> <td> 2950.738</td> <td>    0.004</td> <td> 0.997</td> <td>-5770.421</td> <td> 5796.258</td>\n",
       "</tr>\n",
       "<tr>\n",
       "  <th> management_risk</th>       <td> -324.2668</td> <td>  5.3e+05</td> <td>   -0.001</td> <td> 1.000</td> <td>-1.04e+06</td> <td> 1.04e+06</td>\n",
       "</tr>\n",
       "<tr>\n",
       "  <th> financial_flexibility</th> <td>  145.4967</td> <td> 2.84e+05</td> <td>    0.001</td> <td> 1.000</td> <td>-5.56e+05</td> <td> 5.56e+05</td>\n",
       "</tr>\n",
       "<tr>\n",
       "  <th> credibility</th>           <td>  -30.6519</td> <td> 7.78e+04</td> <td>   -0.000</td> <td> 1.000</td> <td>-1.53e+05</td> <td> 1.52e+05</td>\n",
       "</tr>\n",
       "<tr>\n",
       "  <th> competitiveness</th>       <td>  620.7475</td> <td> 8.52e+05</td> <td>    0.001</td> <td> 0.999</td> <td>-1.67e+06</td> <td> 1.67e+06</td>\n",
       "</tr>\n",
       "<tr>\n",
       "  <th> operating_risk</th>        <td>  -21.7483</td> <td> 2949.871</td> <td>   -0.007</td> <td> 0.994</td> <td>-5803.389</td> <td> 5759.892</td>\n",
       "</tr>\n",
       "</table><br/><br/>Possibly complete quasi-separation: A fraction 0.98 of observations can be<br/>perfectly predicted. This might indicate that there is complete<br/>quasi-separation. In this case some parameters will not be identified."
      ],
      "text/plain": [
       "<class 'statsmodels.iolib.summary.Summary'>\n",
       "\"\"\"\n",
       "                           Logit Regression Results                           \n",
       "==============================================================================\n",
       "Dep. Variable:                  class   No. Observations:                  250\n",
       "Model:                          Logit   Df Residuals:                      244\n",
       "Method:                           MLE   Df Model:                            5\n",
       "Date:                Thu, 02 Dec 2021   Pseudo R-squ.:                   1.000\n",
       "Time:                        15:02:23   Log-Likelihood:            -0.00058593\n",
       "converged:                      False   LL-Null:                       -170.69\n",
       "Covariance Type:            nonrobust   LLR p-value:                 1.261e-71\n",
       "==========================================================================================\n",
       "                             coef    std err          z      P>|z|      [0.025      0.975]\n",
       "------------------------------------------------------------------------------------------\n",
       "industrial_risk           12.9189   2950.738      0.004      0.997   -5770.421    5796.258\n",
       " management_risk        -324.2668    5.3e+05     -0.001      1.000   -1.04e+06    1.04e+06\n",
       " financial_flexibility   145.4967   2.84e+05      0.001      1.000   -5.56e+05    5.56e+05\n",
       " credibility             -30.6519   7.78e+04     -0.000      1.000   -1.53e+05    1.52e+05\n",
       " competitiveness         620.7475   8.52e+05      0.001      0.999   -1.67e+06    1.67e+06\n",
       " operating_risk          -21.7483   2949.871     -0.007      0.994   -5803.389    5759.892\n",
       "==========================================================================================\n",
       "\n",
       "Possibly complete quasi-separation: A fraction 0.98 of observations can be\n",
       "perfectly predicted. This might indicate that there is complete\n",
       "quasi-separation. In this case some parameters will not be identified.\n",
       "\"\"\""
      ]
     },
     "execution_count": 36,
     "metadata": {},
     "output_type": "execute_result"
    }
   ],
   "source": [
    "import statsmodels.api as sm\n",
    "logit=sm.Logit(y,x)\n",
    "logit.fit().summary()"
   ]
  },
  {
   "cell_type": "markdown",
   "id": "c9c75a0a",
   "metadata": {},
   "source": [
    "# Decision trees"
   ]
  },
  {
   "cell_type": "code",
   "execution_count": 37,
   "id": "03737281",
   "metadata": {
    "ExecuteTime": {
     "end_time": "2021-12-02T09:32:23.884691Z",
     "start_time": "2021-12-02T09:32:23.798686Z"
    }
   },
   "outputs": [
    {
     "data": {
      "text/plain": [
       "DecisionTreeClassifier(criterion='entropy', max_depth=2)"
      ]
     },
     "execution_count": 37,
     "metadata": {},
     "output_type": "execute_result"
    }
   ],
   "source": [
    "from sklearn.tree import  DecisionTreeClassifier\n",
    "from sklearn import tree\n",
    "model = DecisionTreeClassifier(criterion = 'entropy',max_depth=2)\n",
    "model.fit(x_train,y_train) "
   ]
  },
  {
   "cell_type": "code",
   "execution_count": 38,
   "id": "acf0410f",
   "metadata": {
    "ExecuteTime": {
     "end_time": "2021-12-02T09:32:24.134705Z",
     "start_time": "2021-12-02T09:32:23.894692Z"
    }
   },
   "outputs": [],
   "source": [
    "tree.plot_tree(model);"
   ]
  },
  {
   "cell_type": "code",
   "execution_count": 39,
   "id": "c3df7b89",
   "metadata": {
    "ExecuteTime": {
     "end_time": "2021-12-02T09:32:24.149706Z",
     "start_time": "2021-12-02T09:32:24.136706Z"
    }
   },
   "outputs": [
    {
     "data": {
      "text/plain": [
       "1    94\n",
       "0    76\n",
       "dtype: int64"
      ]
     },
     "execution_count": 39,
     "metadata": {},
     "output_type": "execute_result"
    }
   ],
   "source": [
    "preds1 = model.predict(x_train) \n",
    "pd.Series(preds1).value_counts()  "
   ]
  },
  {
   "cell_type": "code",
   "execution_count": 40,
   "id": "d75b0acc",
   "metadata": {
    "ExecuteTime": {
     "end_time": "2021-12-02T09:32:24.162707Z",
     "start_time": "2021-12-02T09:32:24.153707Z"
    }
   },
   "outputs": [
    {
     "data": {
      "text/plain": [
       "0.9764705882352941"
      ]
     },
     "execution_count": 40,
     "metadata": {},
     "output_type": "execute_result"
    }
   ],
   "source": [
    "train_accuracy = sum(y_train==preds1)/170\n",
    "train_accuracy "
   ]
  },
  {
   "cell_type": "code",
   "execution_count": 41,
   "id": "36fd0d74",
   "metadata": {
    "ExecuteTime": {
     "end_time": "2021-12-02T09:32:24.180708Z",
     "start_time": "2021-12-02T09:32:24.165707Z"
    }
   },
   "outputs": [
    {
     "data": {
      "text/plain": [
       "1    53\n",
       "0    27\n",
       "dtype: int64"
      ]
     },
     "execution_count": 41,
     "metadata": {},
     "output_type": "execute_result"
    }
   ],
   "source": [
    "preds2= model.predict(x_test) \n",
    "pd.Series(preds2).value_counts()  "
   ]
  },
  {
   "cell_type": "code",
   "execution_count": 42,
   "id": "f37917f1",
   "metadata": {
    "ExecuteTime": {
     "end_time": "2021-12-02T09:32:24.192709Z",
     "start_time": "2021-12-02T09:32:24.183708Z"
    }
   },
   "outputs": [
    {
     "data": {
      "text/plain": [
       "1.0"
      ]
     },
     "execution_count": 42,
     "metadata": {},
     "output_type": "execute_result"
    }
   ],
   "source": [
    "test_accuracy = sum(y_test==preds2)/80\n",
    "test_accuracy "
   ]
  },
  {
   "cell_type": "code",
   "execution_count": 43,
   "id": "14868975",
   "metadata": {
    "ExecuteTime": {
     "end_time": "2021-12-02T09:32:24.228711Z",
     "start_time": "2021-12-02T09:32:24.195709Z"
    }
   },
   "outputs": [
    {
     "data": {
      "text/html": [
       "<div>\n",
       "<style scoped>\n",
       "    .dataframe tbody tr th:only-of-type {\n",
       "        vertical-align: middle;\n",
       "    }\n",
       "\n",
       "    .dataframe tbody tr th {\n",
       "        vertical-align: top;\n",
       "    }\n",
       "\n",
       "    .dataframe thead th {\n",
       "        text-align: right;\n",
       "    }\n",
       "</style>\n",
       "<table border=\"1\" class=\"dataframe\">\n",
       "  <thead>\n",
       "    <tr style=\"text-align: right;\">\n",
       "      <th>col_0</th>\n",
       "      <th>0</th>\n",
       "      <th>1</th>\n",
       "    </tr>\n",
       "    <tr>\n",
       "      <th>class</th>\n",
       "      <th></th>\n",
       "      <th></th>\n",
       "    </tr>\n",
       "  </thead>\n",
       "  <tbody>\n",
       "    <tr>\n",
       "      <th>0</th>\n",
       "      <td>27</td>\n",
       "      <td>0</td>\n",
       "    </tr>\n",
       "    <tr>\n",
       "      <th>1</th>\n",
       "      <td>0</td>\n",
       "      <td>53</td>\n",
       "    </tr>\n",
       "  </tbody>\n",
       "</table>\n",
       "</div>"
      ],
      "text/plain": [
       "col_0    0   1\n",
       " class        \n",
       "0       27   0\n",
       "1        0  53"
      ]
     },
     "execution_count": 43,
     "metadata": {},
     "output_type": "execute_result"
    }
   ],
   "source": [
    "pd.crosstab(y_test,preds2) "
   ]
  },
  {
   "cell_type": "code",
   "execution_count": 44,
   "id": "2567485a",
   "metadata": {
    "ExecuteTime": {
     "end_time": "2021-12-02T09:32:24.266713Z",
     "start_time": "2021-12-02T09:32:24.230711Z"
    }
   },
   "outputs": [
    {
     "data": {
      "text/html": [
       "<div>\n",
       "<style scoped>\n",
       "    .dataframe tbody tr th:only-of-type {\n",
       "        vertical-align: middle;\n",
       "    }\n",
       "\n",
       "    .dataframe tbody tr th {\n",
       "        vertical-align: top;\n",
       "    }\n",
       "\n",
       "    .dataframe thead th {\n",
       "        text-align: right;\n",
       "    }\n",
       "</style>\n",
       "<table border=\"1\" class=\"dataframe\">\n",
       "  <thead>\n",
       "    <tr style=\"text-align: right;\">\n",
       "      <th>col_0</th>\n",
       "      <th>0</th>\n",
       "      <th>1</th>\n",
       "    </tr>\n",
       "    <tr>\n",
       "      <th>class</th>\n",
       "      <th></th>\n",
       "      <th></th>\n",
       "    </tr>\n",
       "  </thead>\n",
       "  <tbody>\n",
       "    <tr>\n",
       "      <th>0</th>\n",
       "      <td>76</td>\n",
       "      <td>4</td>\n",
       "    </tr>\n",
       "    <tr>\n",
       "      <th>1</th>\n",
       "      <td>0</td>\n",
       "      <td>90</td>\n",
       "    </tr>\n",
       "  </tbody>\n",
       "</table>\n",
       "</div>"
      ],
      "text/plain": [
       "col_0    0   1\n",
       " class        \n",
       "0       76   4\n",
       "1        0  90"
      ]
     },
     "execution_count": 44,
     "metadata": {},
     "output_type": "execute_result"
    }
   ],
   "source": [
    "pd.crosstab(y_train,preds1) "
   ]
  },
  {
   "cell_type": "markdown",
   "id": "c55dea11",
   "metadata": {},
   "source": [
    "# Support vector machines"
   ]
  },
  {
   "cell_type": "code",
   "execution_count": 45,
   "id": "f33e28d2",
   "metadata": {
    "ExecuteTime": {
     "end_time": "2021-12-02T09:32:24.277714Z",
     "start_time": "2021-12-02T09:32:24.268713Z"
    }
   },
   "outputs": [],
   "source": [
    "from sklearn.preprocessing import StandardScaler\n",
    "from sklearn import svm\n",
    "from sklearn.svm import SVC\n",
    "from sklearn.model_selection import GridSearchCV\n",
    "from sklearn.model_selection import  cross_val_score\n",
    "from sklearn.metrics import accuracy_score"
   ]
  },
  {
   "cell_type": "code",
   "execution_count": 46,
   "id": "c5d73892",
   "metadata": {
    "ExecuteTime": {
     "end_time": "2021-12-02T09:32:26.829860Z",
     "start_time": "2021-12-02T09:32:24.280714Z"
    }
   },
   "outputs": [
    {
     "data": {
      "text/plain": [
       "GridSearchCV(cv=10, estimator=SVC(),\n",
       "             param_grid=[{'C': [15, 14, 11, 10, 0.1, 0.001],\n",
       "                          'gamma': [33, 50, 4, 10, 0.5], 'kernel': ['rbf']}])"
      ]
     },
     "execution_count": 46,
     "metadata": {},
     "output_type": "execute_result"
    }
   ],
   "source": [
    "clf = SVC()\n",
    "param_grid = [{'kernel':['rbf'],'gamma':[33,50,4,10,0.5],'C':[15,14,11,10,0.1,0.001] }]\n",
    "gsv = GridSearchCV(clf,param_grid,cv=10)\n",
    "gsv.fit(x_train,y_train)"
   ]
  },
  {
   "cell_type": "code",
   "execution_count": 47,
   "id": "c2ec62a8",
   "metadata": {
    "ExecuteTime": {
     "end_time": "2021-12-02T09:32:26.844860Z",
     "start_time": "2021-12-02T09:32:26.838860Z"
    }
   },
   "outputs": [
    {
     "data": {
      "text/plain": [
       "({'C': 15, 'gamma': 4, 'kernel': 'rbf'}, 0.9941176470588236)"
      ]
     },
     "execution_count": 47,
     "metadata": {},
     "output_type": "execute_result"
    }
   ],
   "source": [
    "gsv.best_params_ , gsv.best_score_ "
   ]
  },
  {
   "cell_type": "code",
   "execution_count": 48,
   "id": "9c1951f6",
   "metadata": {
    "ExecuteTime": {
     "end_time": "2021-12-02T09:32:26.940866Z",
     "start_time": "2021-12-02T09:32:26.848861Z"
    }
   },
   "outputs": [
    {
     "name": "stdout",
     "output_type": "stream",
     "text": [
      "Accuracy= 61.76470588235294\n",
      "col_0    0   1\n",
      " class        \n",
      "0       15  65\n",
      "1        0  90\n",
      "Accuracy = 71.25\n",
      " class   0   1\n",
      "row_0         \n",
      "0        4   0\n",
      "1       23  53\n"
     ]
    }
   ],
   "source": [
    "clf=SVC(C=0.1,gamma=10,kernel='rbf')\n",
    "clf.fit(x_train,y_train)\n",
    "y_pred=clf.predict(x_train)\n",
    "acc=accuracy_score(y_train,y_pred)*100\n",
    "print(\"Accuracy=\",acc)\n",
    "print(pd.crosstab(y_train,y_pred))\n",
    "y_pred = clf.predict(x_test)\n",
    "acc = accuracy_score(y_test, y_pred) * 100\n",
    "print(\"Accuracy =\", acc)\n",
    "print(pd.crosstab(y_pred,y_test))"
   ]
  },
  {
   "cell_type": "code",
   "execution_count": 49,
   "id": "7a6580c5",
   "metadata": {
    "ExecuteTime": {
     "end_time": "2021-12-02T09:32:27.017870Z",
     "start_time": "2021-12-02T09:32:26.943866Z"
    }
   },
   "outputs": [
    {
     "name": "stdout",
     "output_type": "stream",
     "text": [
      "Accuracy = 100.0\n",
      " class   0   1\n",
      "row_0         \n",
      "0       80   0\n",
      "1        0  90\n",
      "Accuracy = 100.0\n",
      " class   0   1\n",
      "row_0         \n",
      "0       27   0\n",
      "1        0  53\n"
     ]
    }
   ],
   "source": [
    "clf = SVC(C= 15, gamma = 50)\n",
    "clf.fit(x_train , y_train)\n",
    "y_pred = clf.predict(x_train)\n",
    "acc = accuracy_score(y_train, y_pred) * 100\n",
    "print(\"Accuracy =\", acc)\n",
    "print(pd.crosstab(y_pred,y_train))\n",
    "#didnt use any kernel because the accuracy is already high\n",
    "y_pred = clf.predict(x_test)\n",
    "acc = accuracy_score(y_test, y_pred) * 100\n",
    "print(\"Accuracy =\", acc)\n",
    "print(pd.crosstab(y_pred,y_test))"
   ]
  },
  {
   "cell_type": "markdown",
   "id": "ac4bc4bb",
   "metadata": {},
   "source": [
    "# Naive bayes"
   ]
  },
  {
   "cell_type": "code",
   "execution_count": 50,
   "id": "e243b30c",
   "metadata": {
    "ExecuteTime": {
     "end_time": "2021-12-02T09:32:27.071873Z",
     "start_time": "2021-12-02T09:32:27.021871Z"
    }
   },
   "outputs": [
    {
     "name": "stdout",
     "output_type": "stream",
     "text": [
      "0.9705882352941176\n",
      "[0 1 0 0 1 1 1 1 1 0 0 1 0 0 1 1 1 0 0 1 1 0 0 0 1 0 1 1 0 0 0 0 0 0 1 1 1\n",
      " 0 0 1 1 0 1 0 0 1 0 0 0 0 0 1 1 1 1 0 1 1 1 1 0 1 1 0 1 1 0 0 1 1 0 1 0 1\n",
      " 1 0 1 0 0 1 1 0 0 1 0 1 1 1 1 0 0 1 1 0 1 1 1 0 1 0 0 0 0 1 0 1 0 1 1 1 1\n",
      " 0 1 0 1 1 0 1 1 0 1 1 0 1 0 0 0 1 1 1 1 1 1 1 1 1 0 1 0 1 1 0 0 1 1 1 1 0\n",
      " 1 1 1 1 0 0 1 1 0 0 1 0 1 0 0 1 0 1 1 0 1 0]\n",
      "              precision    recall  f1-score   support\n",
      "\n",
      "           0       1.00      0.94      0.97        80\n",
      "           1       0.95      1.00      0.97        90\n",
      "\n",
      "    accuracy                           0.97       170\n",
      "   macro avg       0.97      0.97      0.97       170\n",
      "weighted avg       0.97      0.97      0.97       170\n",
      "\n"
     ]
    }
   ],
   "source": [
    "from sklearn.feature_extraction.text import CountVectorizer\n",
    "from sklearn.naive_bayes import MultinomialNB\n",
    "clf = MultinomialNB()\n",
    "clf.fit(x_train,y_train)\n",
    "print(clf.score(x_train,y_train))\n",
    "y_pred1 = clf.predict(x_train)\n",
    "print(y_pred1)\n",
    "print(classification_report(y_train, y_pred1))"
   ]
  },
  {
   "cell_type": "code",
   "execution_count": 51,
   "id": "bb65ac76",
   "metadata": {
    "ExecuteTime": {
     "end_time": "2021-12-02T09:32:27.152878Z",
     "start_time": "2021-12-02T09:32:27.074874Z"
    }
   },
   "outputs": [
    {
     "name": "stdout",
     "output_type": "stream",
     "text": [
      "1.0\n",
      "[0 1 0 0 1 1 1 1 1 0 0 1 0 0 1 1 1 0 0 1 1 0 0 0 1 0 1 1 0 0 0 0 0 0 1 1 1\n",
      " 0 0 1 1 0 1 0 0 1 0 0 0 0 0 1 1 1 1 0 1 1 1 1 0 1 1 0 1 1 0 0 1 1 0 1 0 1\n",
      " 1 0 1 0 0 1 1 0 0 1 0 1 1 1 1 0 0 1 1 0 1 1 1 0 1 0 0 0 0 1 0 1 0 1 1 1 1\n",
      " 0 1 0 1 1 0 1 1 0 1 1 0 1 0 0 0 1 1 1 1 1 1 1 1 1 0 1 0 1 1 0 0 1 1 1 1 0\n",
      " 1 1 1 1 0 0 1 1 0 0 1 0 1 0 0 1 0 1 1 0 1 0]\n",
      "              precision    recall  f1-score   support\n",
      "\n",
      "           0       1.00      0.94      0.97        80\n",
      "           1       0.95      1.00      0.97        90\n",
      "\n",
      "    accuracy                           0.97       170\n",
      "   macro avg       0.97      0.97      0.97       170\n",
      "weighted avg       0.97      0.97      0.97       170\n",
      "\n"
     ]
    }
   ],
   "source": [
    "print(clf.score(x_test,y_test))\n",
    "y_pred1 = clf.predict(x_train)\n",
    "print(y_pred1)\n",
    "print(classification_report(y_train, y_pred1))"
   ]
  },
  {
   "cell_type": "markdown",
   "id": "d7e98501",
   "metadata": {},
   "source": [
    "# Neural networks"
   ]
  },
  {
   "cell_type": "code",
   "execution_count": 52,
   "id": "47577214",
   "metadata": {
    "ExecuteTime": {
     "end_time": "2021-12-02T09:32:27.377891Z",
     "start_time": "2021-12-02T09:32:27.155878Z"
    }
   },
   "outputs": [],
   "source": [
    "import tensorflow.compat.v2 as tv\n",
    "import tensorflow as tf\n",
    "from tensorflow import keras "
   ]
  },
  {
   "cell_type": "code",
   "execution_count": 53,
   "id": "3b37b7db",
   "metadata": {
    "ExecuteTime": {
     "end_time": "2021-12-02T09:32:32.226168Z",
     "start_time": "2021-12-02T09:32:27.379891Z"
    }
   },
   "outputs": [
    {
     "name": "stdout",
     "output_type": "stream",
     "text": [
      "Epoch 1/50\n",
      "14/14 [==============================] - 2s 54ms/step - loss: 0.7474 - acc: 0.6029 - val_loss: 0.7317 - val_acc: 0.7647\n",
      "Epoch 2/50\n",
      "14/14 [==============================] - 0s 3ms/step - loss: 0.7305 - acc: 0.7059 - val_loss: 0.7133 - val_acc: 0.7941\n",
      "Epoch 3/50\n",
      "14/14 [==============================] - 0s 3ms/step - loss: 0.7120 - acc: 0.7721 - val_loss: 0.6940 - val_acc: 0.8529\n",
      "Epoch 4/50\n",
      "14/14 [==============================] - 0s 3ms/step - loss: 0.6916 - acc: 0.8235 - val_loss: 0.6729 - val_acc: 0.8824\n",
      "Epoch 5/50\n",
      "14/14 [==============================] - 0s 3ms/step - loss: 0.6707 - acc: 0.8676 - val_loss: 0.6514 - val_acc: 0.9706\n",
      "Epoch 6/50\n",
      "14/14 [==============================] - 0s 3ms/step - loss: 0.6499 - acc: 0.9191 - val_loss: 0.6302 - val_acc: 1.0000\n",
      "Epoch 7/50\n",
      "14/14 [==============================] - 0s 3ms/step - loss: 0.6272 - acc: 0.9485 - val_loss: 0.6096 - val_acc: 1.0000\n",
      "Epoch 8/50\n",
      "14/14 [==============================] - 0s 3ms/step - loss: 0.6061 - acc: 0.9485 - val_loss: 0.5873 - val_acc: 1.0000\n",
      "Epoch 9/50\n",
      "14/14 [==============================] - 0s 3ms/step - loss: 0.5840 - acc: 0.9632 - val_loss: 0.5647 - val_acc: 1.0000\n",
      "Epoch 10/50\n",
      "14/14 [==============================] - 0s 3ms/step - loss: 0.5628 - acc: 0.9632 - val_loss: 0.5401 - val_acc: 1.0000\n",
      "Epoch 11/50\n",
      "14/14 [==============================] - 0s 3ms/step - loss: 0.5394 - acc: 0.9632 - val_loss: 0.5160 - val_acc: 1.0000\n",
      "Epoch 12/50\n",
      "14/14 [==============================] - 0s 3ms/step - loss: 0.5165 - acc: 0.9632 - val_loss: 0.4913 - val_acc: 1.0000\n",
      "Epoch 13/50\n",
      "14/14 [==============================] - 0s 3ms/step - loss: 0.4936 - acc: 0.9706 - val_loss: 0.4652 - val_acc: 1.0000\n",
      "Epoch 14/50\n",
      "14/14 [==============================] - 0s 3ms/step - loss: 0.4696 - acc: 0.9706 - val_loss: 0.4413 - val_acc: 1.0000\n",
      "Epoch 15/50\n",
      "14/14 [==============================] - 0s 3ms/step - loss: 0.4468 - acc: 0.9632 - val_loss: 0.4168 - val_acc: 1.0000\n",
      "Epoch 16/50\n",
      "14/14 [==============================] - 0s 3ms/step - loss: 0.4237 - acc: 0.9632 - val_loss: 0.3917 - val_acc: 1.0000\n",
      "Epoch 17/50\n",
      "14/14 [==============================] - 0s 3ms/step - loss: 0.4024 - acc: 0.9632 - val_loss: 0.3671 - val_acc: 1.0000\n",
      "Epoch 18/50\n",
      "14/14 [==============================] - 0s 3ms/step - loss: 0.3803 - acc: 0.9706 - val_loss: 0.3455 - val_acc: 1.0000\n",
      "Epoch 19/50\n",
      "14/14 [==============================] - 0s 3ms/step - loss: 0.3608 - acc: 0.9706 - val_loss: 0.3232 - val_acc: 1.0000\n",
      "Epoch 20/50\n",
      "14/14 [==============================] - 0s 3ms/step - loss: 0.3410 - acc: 0.9706 - val_loss: 0.3044 - val_acc: 1.0000\n",
      "Epoch 21/50\n",
      "14/14 [==============================] - 0s 4ms/step - loss: 0.3229 - acc: 0.9706 - val_loss: 0.2857 - val_acc: 1.0000\n",
      "Epoch 22/50\n",
      "14/14 [==============================] - 0s 3ms/step - loss: 0.3066 - acc: 0.9706 - val_loss: 0.2688 - val_acc: 1.0000\n",
      "Epoch 23/50\n",
      "14/14 [==============================] - 0s 3ms/step - loss: 0.2909 - acc: 0.9706 - val_loss: 0.2520 - val_acc: 1.0000\n",
      "Epoch 24/50\n",
      "14/14 [==============================] - 0s 4ms/step - loss: 0.2772 - acc: 0.9706 - val_loss: 0.2377 - val_acc: 1.0000\n",
      "Epoch 25/50\n",
      "14/14 [==============================] - 0s 3ms/step - loss: 0.2643 - acc: 0.9706 - val_loss: 0.2256 - val_acc: 1.0000\n",
      "Epoch 26/50\n",
      "14/14 [==============================] - 0s 3ms/step - loss: 0.2526 - acc: 0.9706 - val_loss: 0.2130 - val_acc: 1.0000\n",
      "Epoch 27/50\n",
      "14/14 [==============================] - 0s 4ms/step - loss: 0.2418 - acc: 0.9706 - val_loss: 0.2029 - val_acc: 1.0000\n",
      "Epoch 28/50\n",
      "14/14 [==============================] - 0s 3ms/step - loss: 0.2318 - acc: 0.9706 - val_loss: 0.1923 - val_acc: 1.0000\n",
      "Epoch 29/50\n",
      "14/14 [==============================] - 0s 4ms/step - loss: 0.2227 - acc: 0.9706 - val_loss: 0.1841 - val_acc: 1.0000\n",
      "Epoch 30/50\n",
      "14/14 [==============================] - 0s 5ms/step - loss: 0.2148 - acc: 0.9706 - val_loss: 0.1755 - val_acc: 1.0000\n",
      "Epoch 31/50\n",
      "14/14 [==============================] - 0s 4ms/step - loss: 0.2072 - acc: 0.9706 - val_loss: 0.1680 - val_acc: 1.0000\n",
      "Epoch 32/50\n",
      "14/14 [==============================] - 0s 3ms/step - loss: 0.2001 - acc: 0.9706 - val_loss: 0.1610 - val_acc: 1.0000\n",
      "Epoch 33/50\n",
      "14/14 [==============================] - 0s 3ms/step - loss: 0.1934 - acc: 0.9706 - val_loss: 0.1548 - val_acc: 1.0000\n",
      "Epoch 34/50\n",
      "14/14 [==============================] - 0s 3ms/step - loss: 0.1873 - acc: 0.9779 - val_loss: 0.1500 - val_acc: 1.0000\n",
      "Epoch 35/50\n",
      "14/14 [==============================] - 0s 4ms/step - loss: 0.1816 - acc: 0.9779 - val_loss: 0.1449 - val_acc: 1.0000\n",
      "Epoch 36/50\n",
      "14/14 [==============================] - 0s 3ms/step - loss: 0.1766 - acc: 0.9779 - val_loss: 0.1405 - val_acc: 1.0000\n",
      "Epoch 37/50\n",
      "14/14 [==============================] - 0s 3ms/step - loss: 0.1719 - acc: 0.9779 - val_loss: 0.1351 - val_acc: 1.0000\n",
      "Epoch 38/50\n",
      "14/14 [==============================] - 0s 4ms/step - loss: 0.1670 - acc: 0.9779 - val_loss: 0.1310 - val_acc: 1.0000\n",
      "Epoch 39/50\n",
      "14/14 [==============================] - 0s 3ms/step - loss: 0.1631 - acc: 0.9779 - val_loss: 0.1276 - val_acc: 1.0000\n",
      "Epoch 40/50\n",
      "14/14 [==============================] - 0s 4ms/step - loss: 0.1590 - acc: 0.9779 - val_loss: 0.1229 - val_acc: 1.0000\n",
      "Epoch 41/50\n",
      "14/14 [==============================] - 0s 3ms/step - loss: 0.1554 - acc: 0.9779 - val_loss: 0.1202 - val_acc: 1.0000\n",
      "Epoch 42/50\n",
      "14/14 [==============================] - 0s 3ms/step - loss: 0.1519 - acc: 0.9779 - val_loss: 0.1169 - val_acc: 1.0000\n",
      "Epoch 43/50\n",
      "14/14 [==============================] - 0s 3ms/step - loss: 0.1488 - acc: 0.9779 - val_loss: 0.1145 - val_acc: 1.0000\n",
      "Epoch 44/50\n",
      "14/14 [==============================] - 0s 3ms/step - loss: 0.1458 - acc: 0.9779 - val_loss: 0.1124 - val_acc: 1.0000\n",
      "Epoch 45/50\n",
      "14/14 [==============================] - 0s 4ms/step - loss: 0.1427 - acc: 0.9779 - val_loss: 0.1087 - val_acc: 1.0000\n",
      "Epoch 46/50\n",
      "14/14 [==============================] - 0s 3ms/step - loss: 0.1398 - acc: 0.9779 - val_loss: 0.1067 - val_acc: 1.0000\n",
      "Epoch 47/50\n",
      "14/14 [==============================] - 0s 3ms/step - loss: 0.1372 - acc: 0.9779 - val_loss: 0.1048 - val_acc: 1.0000\n",
      "Epoch 48/50\n",
      "14/14 [==============================] - 0s 4ms/step - loss: 0.1349 - acc: 0.9926 - val_loss: 0.1031 - val_acc: 1.0000\n",
      "Epoch 49/50\n",
      "14/14 [==============================] - 0s 3ms/step - loss: 0.1327 - acc: 0.9779 - val_loss: 0.1001 - val_acc: 1.0000\n",
      "Epoch 50/50\n",
      "14/14 [==============================] - 0s 3ms/step - loss: 0.1303 - acc: 0.9779 - val_loss: 0.0986 - val_acc: 1.0000\n",
      "6/6 [==============================] - 0s 2ms/step - loss: 0.1228 - acc: 0.9941\n",
      "acc: 99.41%\n"
     ]
    }
   ],
   "source": [
    "from tensorflow.python.keras.models import Sequential\n",
    "from tensorflow.python.keras.layers import Dense\n",
    "from tensorflow.python.keras import regularizers\n",
    "seed = 7\n",
    "np.random.seed(seed)\n",
    "model = Sequential()\n",
    "model.add(Dense(8, input_dim=6, activation='relu',kernel_regularizer=regularizers.l2(0.01)))\n",
    "model.add(Dense(5,  activation='relu'))\n",
    "model.add(Dense(1,  activation='sigmoid')) \n",
    "model.compile(loss='binary_crossentropy', optimizer='adam', metrics=['acc']) \n",
    "history=model.fit(x_train, y_train, validation_split=0.20, epochs=50, batch_size=10,verbose=1) \n",
    "scores = model.evaluate(x_train, y_train)\n",
    "print(\"%s: %.2f%%\" % (model.metrics_names[1], scores[1]*100)) "
   ]
  },
  {
   "cell_type": "code",
   "execution_count": 54,
   "id": "371ce4d4",
   "metadata": {
    "ExecuteTime": {
     "end_time": "2021-12-02T09:32:32.318174Z",
     "start_time": "2021-12-02T09:32:32.228168Z"
    }
   },
   "outputs": [
    {
     "name": "stdout",
     "output_type": "stream",
     "text": [
      "3/3 [==============================] - 0s 3ms/step - loss: 0.0995 - acc: 1.0000\n",
      "acc: 100.00%\n"
     ]
    }
   ],
   "source": [
    "scores = model.evaluate(x_test, y_test)\n",
    "print(\"%s: %.2f%%\" % (model.metrics_names[1], scores[1]*100)) "
   ]
  },
  {
   "cell_type": "code",
   "execution_count": 55,
   "id": "ee885904",
   "metadata": {
    "ExecuteTime": {
     "end_time": "2021-12-02T09:32:35.666365Z",
     "start_time": "2021-12-02T09:32:32.323174Z"
    }
   },
   "outputs": [
    {
     "name": "stdout",
     "output_type": "stream",
     "text": [
      "Model: \"sequential_1\"\n",
      "_________________________________________________________________\n",
      "Layer (type)                 Output Shape              Param #   \n",
      "=================================================================\n",
      "dense_3 (Dense)              (None, 8)                 56        \n",
      "_________________________________________________________________\n",
      "dense_4 (Dense)              (None, 5)                 45        \n",
      "_________________________________________________________________\n",
      "dropout (Dropout)            (None, 5)                 0         \n",
      "_________________________________________________________________\n",
      "dense_5 (Dense)              (None, 1)                 6         \n",
      "=================================================================\n",
      "Total params: 107\n",
      "Trainable params: 107\n",
      "Non-trainable params: 0\n",
      "_________________________________________________________________\n",
      "Epoch 1/50\n",
      "17/17 [==============================] - 1s 14ms/step - loss: 0.7714 - accuracy: 0.2941 - val_loss: 0.7737 - val_accuracy: 0.2375\n",
      "Epoch 2/50\n",
      "17/17 [==============================] - 0s 3ms/step - loss: 0.7708 - accuracy: 0.2176 - val_loss: 0.7611 - val_accuracy: 0.3125\n",
      "Epoch 3/50\n",
      "17/17 [==============================] - 0s 3ms/step - loss: 0.7565 - accuracy: 0.2824 - val_loss: 0.7502 - val_accuracy: 0.3500\n",
      "Epoch 4/50\n",
      "17/17 [==============================] - 0s 3ms/step - loss: 0.7439 - accuracy: 0.3118 - val_loss: 0.7410 - val_accuracy: 0.3875\n",
      "Epoch 5/50\n",
      "17/17 [==============================] - 0s 3ms/step - loss: 0.7360 - accuracy: 0.3412 - val_loss: 0.7316 - val_accuracy: 0.4000\n",
      "Epoch 6/50\n",
      "17/17 [==============================] - 0s 3ms/step - loss: 0.7277 - accuracy: 0.3706 - val_loss: 0.7234 - val_accuracy: 0.4250\n",
      "Epoch 7/50\n",
      "17/17 [==============================] - 0s 3ms/step - loss: 0.7223 - accuracy: 0.3824 - val_loss: 0.7151 - val_accuracy: 0.4750\n",
      "Epoch 8/50\n",
      "17/17 [==============================] - 0s 3ms/step - loss: 0.7157 - accuracy: 0.4412 - val_loss: 0.7072 - val_accuracy: 0.5000\n",
      "Epoch 9/50\n",
      "17/17 [==============================] - 0s 4ms/step - loss: 0.7106 - accuracy: 0.4588 - val_loss: 0.7003 - val_accuracy: 0.5125\n",
      "Epoch 10/50\n",
      "17/17 [==============================] - 0s 4ms/step - loss: 0.7006 - accuracy: 0.5294 - val_loss: 0.6940 - val_accuracy: 0.5500\n",
      "Epoch 11/50\n",
      "17/17 [==============================] - 0s 3ms/step - loss: 0.6931 - accuracy: 0.5765 - val_loss: 0.6878 - val_accuracy: 0.6000\n",
      "Epoch 12/50\n",
      "17/17 [==============================] - 0s 3ms/step - loss: 0.6905 - accuracy: 0.6059 - val_loss: 0.6820 - val_accuracy: 0.6250\n",
      "Epoch 13/50\n",
      "17/17 [==============================] - 0s 3ms/step - loss: 0.6801 - accuracy: 0.7118 - val_loss: 0.6762 - val_accuracy: 0.7500\n",
      "Epoch 14/50\n",
      "17/17 [==============================] - 0s 3ms/step - loss: 0.6787 - accuracy: 0.7529 - val_loss: 0.6703 - val_accuracy: 0.7875\n",
      "Epoch 15/50\n",
      "17/17 [==============================] - 0s 3ms/step - loss: 0.6709 - accuracy: 0.8000 - val_loss: 0.6646 - val_accuracy: 0.8375\n",
      "Epoch 16/50\n",
      "17/17 [==============================] - 0s 3ms/step - loss: 0.6626 - accuracy: 0.8353 - val_loss: 0.6591 - val_accuracy: 0.8750\n",
      "Epoch 17/50\n",
      "17/17 [==============================] - 0s 3ms/step - loss: 0.6571 - accuracy: 0.8412 - val_loss: 0.6534 - val_accuracy: 0.8750\n",
      "Epoch 18/50\n",
      "17/17 [==============================] - 0s 3ms/step - loss: 0.6534 - accuracy: 0.8529 - val_loss: 0.6480 - val_accuracy: 0.8875\n",
      "Epoch 19/50\n",
      "17/17 [==============================] - 0s 3ms/step - loss: 0.6477 - accuracy: 0.8647 - val_loss: 0.6422 - val_accuracy: 0.8875\n",
      "Epoch 20/50\n",
      "17/17 [==============================] - 0s 3ms/step - loss: 0.6388 - accuracy: 0.8765 - val_loss: 0.6358 - val_accuracy: 0.8875\n",
      "Epoch 21/50\n",
      "17/17 [==============================] - 0s 3ms/step - loss: 0.6336 - accuracy: 0.8588 - val_loss: 0.6299 - val_accuracy: 0.8875\n",
      "Epoch 22/50\n",
      "17/17 [==============================] - 0s 3ms/step - loss: 0.6358 - accuracy: 0.7941 - val_loss: 0.6240 - val_accuracy: 0.9125\n",
      "Epoch 23/50\n",
      "17/17 [==============================] - 0s 3ms/step - loss: 0.6320 - accuracy: 0.8176 - val_loss: 0.6180 - val_accuracy: 0.9125\n",
      "Epoch 24/50\n",
      "17/17 [==============================] - 0s 3ms/step - loss: 0.6225 - accuracy: 0.8529 - val_loss: 0.6119 - val_accuracy: 0.9250\n",
      "Epoch 25/50\n",
      "17/17 [==============================] - 0s 3ms/step - loss: 0.6188 - accuracy: 0.8412 - val_loss: 0.6055 - val_accuracy: 0.9500\n",
      "Epoch 26/50\n",
      "17/17 [==============================] - 0s 3ms/step - loss: 0.6071 - accuracy: 0.8824 - val_loss: 0.5987 - val_accuracy: 0.9625\n",
      "Epoch 27/50\n",
      "17/17 [==============================] - 0s 3ms/step - loss: 0.5925 - accuracy: 0.9000 - val_loss: 0.5914 - val_accuracy: 0.9625\n",
      "Epoch 28/50\n",
      "17/17 [==============================] - 0s 3ms/step - loss: 0.5977 - accuracy: 0.8529 - val_loss: 0.5839 - val_accuracy: 0.9625\n",
      "Epoch 29/50\n",
      "17/17 [==============================] - 0s 3ms/step - loss: 0.5941 - accuracy: 0.8529 - val_loss: 0.5757 - val_accuracy: 0.9625\n",
      "Epoch 30/50\n",
      "17/17 [==============================] - 0s 3ms/step - loss: 0.5695 - accuracy: 0.9000 - val_loss: 0.5679 - val_accuracy: 0.9625\n",
      "Epoch 31/50\n",
      "17/17 [==============================] - 0s 3ms/step - loss: 0.5717 - accuracy: 0.8824 - val_loss: 0.5592 - val_accuracy: 0.9750\n",
      "Epoch 32/50\n",
      "17/17 [==============================] - 0s 3ms/step - loss: 0.5650 - accuracy: 0.8941 - val_loss: 0.5507 - val_accuracy: 0.9750\n",
      "Epoch 33/50\n",
      "17/17 [==============================] - 0s 3ms/step - loss: 0.5571 - accuracy: 0.8765 - val_loss: 0.5423 - val_accuracy: 0.9750\n",
      "Epoch 34/50\n",
      "17/17 [==============================] - 0s 3ms/step - loss: 0.5420 - accuracy: 0.8941 - val_loss: 0.5325 - val_accuracy: 0.9750\n",
      "Epoch 35/50\n",
      "17/17 [==============================] - 0s 3ms/step - loss: 0.5440 - accuracy: 0.8647 - val_loss: 0.5220 - val_accuracy: 0.9750\n",
      "Epoch 36/50\n",
      "17/17 [==============================] - 0s 3ms/step - loss: 0.5258 - accuracy: 0.8941 - val_loss: 0.5107 - val_accuracy: 0.9750\n",
      "Epoch 37/50\n",
      "17/17 [==============================] - 0s 3ms/step - loss: 0.5082 - accuracy: 0.9294 - val_loss: 0.4993 - val_accuracy: 0.9750\n",
      "Epoch 38/50\n",
      "17/17 [==============================] - 0s 3ms/step - loss: 0.5145 - accuracy: 0.9176 - val_loss: 0.4877 - val_accuracy: 0.9750\n",
      "Epoch 39/50\n",
      "17/17 [==============================] - 0s 3ms/step - loss: 0.4974 - accuracy: 0.9176 - val_loss: 0.4751 - val_accuracy: 0.9750\n",
      "Epoch 40/50\n",
      "17/17 [==============================] - 0s 3ms/step - loss: 0.5069 - accuracy: 0.8824 - val_loss: 0.4634 - val_accuracy: 0.9750\n",
      "Epoch 41/50\n",
      "17/17 [==============================] - 0s 3ms/step - loss: 0.4898 - accuracy: 0.8824 - val_loss: 0.4499 - val_accuracy: 0.9750\n",
      "Epoch 42/50\n",
      "17/17 [==============================] - 0s 3ms/step - loss: 0.4630 - accuracy: 0.9294 - val_loss: 0.4363 - val_accuracy: 0.9750\n",
      "Epoch 43/50\n",
      "17/17 [==============================] - 0s 3ms/step - loss: 0.4366 - accuracy: 0.9294 - val_loss: 0.4220 - val_accuracy: 0.9750\n",
      "Epoch 44/50\n",
      "17/17 [==============================] - 0s 3ms/step - loss: 0.4448 - accuracy: 0.9000 - val_loss: 0.4081 - val_accuracy: 0.9750\n",
      "Epoch 45/50\n",
      "17/17 [==============================] - 0s 3ms/step - loss: 0.4285 - accuracy: 0.9059 - val_loss: 0.3944 - val_accuracy: 0.9750\n",
      "Epoch 46/50\n",
      "17/17 [==============================] - 0s 3ms/step - loss: 0.4207 - accuracy: 0.9235 - val_loss: 0.3814 - val_accuracy: 0.9750\n",
      "Epoch 47/50\n",
      "17/17 [==============================] - 0s 3ms/step - loss: 0.4151 - accuracy: 0.8941 - val_loss: 0.3679 - val_accuracy: 0.9750\n",
      "Epoch 48/50\n",
      "17/17 [==============================] - 0s 3ms/step - loss: 0.3918 - accuracy: 0.9235 - val_loss: 0.3552 - val_accuracy: 0.9750\n",
      "Epoch 49/50\n",
      "17/17 [==============================] - 0s 3ms/step - loss: 0.3834 - accuracy: 0.9176 - val_loss: 0.3429 - val_accuracy: 0.9750\n",
      "Epoch 50/50\n",
      "17/17 [==============================] - 0s 3ms/step - loss: 0.3768 - accuracy: 0.9176 - val_loss: 0.3316 - val_accuracy: 0.9750\n"
     ]
    }
   ],
   "source": [
    "    \n",
    "    model = keras.Sequential([\n",
    "        \n",
    "        keras.layers.Dense(8, input_dim=6,activation='relu'),\n",
    "        keras.layers.Dense(5, activation='relu', kernel_regularizer=keras.regularizers.l2(0.001)),\n",
    "        keras.layers.Dropout(0.1),\n",
    "        keras.layers.Dense(1, activation='sigmoid')\n",
    "    ])\n",
    "\n",
    "    import tensorflow as tf\n",
    "    optimiser = tf.keras.optimizers.Adam(learning_rate=0.0003)\n",
    "    model.compile(optimizer=optimiser,\n",
    "                  loss='binary_crossentropy',\n",
    "                  metrics=['accuracy'])\n",
    "\n",
    "    model.summary()\n",
    "    history = model.fit(x_train, y_train, validation_data=(x_test, y_test), batch_size=10, epochs=50)"
   ]
  },
  {
   "cell_type": "code",
   "execution_count": 56,
   "id": "ba1a0232",
   "metadata": {
    "ExecuteTime": {
     "end_time": "2021-12-02T09:32:35.889378Z",
     "start_time": "2021-12-02T09:32:35.669365Z"
    }
   },
   "outputs": [
    {
     "name": "stdout",
     "output_type": "stream",
     "text": [
      "6/6 [==============================] - 0s 3ms/step - loss: 0.3578 - accuracy: 0.9765\n",
      "accuracy: 97.65%\n"
     ]
    }
   ],
   "source": [
    "scores = model.evaluate(x_train, y_train)\n",
    "print(\"%s: %.2f%%\" % (model.metrics_names[1], scores[1]*100)) "
   ]
  },
  {
   "cell_type": "code",
   "execution_count": 57,
   "id": "3fa0ada6",
   "metadata": {
    "ExecuteTime": {
     "end_time": "2021-12-02T09:32:35.977383Z",
     "start_time": "2021-12-02T09:32:35.893378Z"
    }
   },
   "outputs": [
    {
     "name": "stdout",
     "output_type": "stream",
     "text": [
      "3/3 [==============================] - 0s 4ms/step - loss: 0.3316 - accuracy: 0.9750\n",
      "accuracy: 97.50%\n"
     ]
    }
   ],
   "source": [
    "scores = model.evaluate(x_test, y_test)\n",
    "print(\"%s: %.2f%%\" % (model.metrics_names[1], scores[1]*100)) "
   ]
  },
  {
   "cell_type": "markdown",
   "id": "2744ba17",
   "metadata": {},
   "source": [
    "# Random forest"
   ]
  },
  {
   "cell_type": "code",
   "execution_count": 58,
   "id": "e4a6a7be",
   "metadata": {
    "ExecuteTime": {
     "end_time": "2021-12-02T09:32:47.843061Z",
     "start_time": "2021-12-02T09:32:35.980383Z"
    }
   },
   "outputs": [
    {
     "name": "stdout",
     "output_type": "stream",
     "text": [
      "0.9882352941176471\n"
     ]
    }
   ],
   "source": [
    "from sklearn.model_selection import KFold\n",
    "from sklearn.ensemble import RandomForestClassifier\n",
    "num_trees = 500\n",
    "max_features = 6\n",
    "kfold = KFold(n_splits=10, random_state=7,shuffle=True)\n",
    "model = RandomForestClassifier(n_estimators=num_trees, max_features=max_features)\n",
    "results = cross_val_score(model, x_train, y_train, cv=kfold)\n",
    "print(results.mean()) "
   ]
  },
  {
   "cell_type": "code",
   "execution_count": 59,
   "id": "13b5e656",
   "metadata": {
    "ExecuteTime": {
     "end_time": "2021-12-02T09:32:59.477727Z",
     "start_time": "2021-12-02T09:32:47.845062Z"
    }
   },
   "outputs": [
    {
     "name": "stdout",
     "output_type": "stream",
     "text": [
      "1.0\n"
     ]
    }
   ],
   "source": [
    "results = cross_val_score(model, x_test, y_test, cv=kfold)\n",
    "print(results.mean()) "
   ]
  },
  {
   "cell_type": "markdown",
   "id": "07c32077",
   "metadata": {},
   "source": [
    "# knn algorithm"
   ]
  },
  {
   "cell_type": "code",
   "execution_count": 60,
   "id": "c4f770d9",
   "metadata": {
    "ExecuteTime": {
     "end_time": "2021-12-02T09:32:59.597734Z",
     "start_time": "2021-12-02T09:32:59.479727Z"
    }
   },
   "outputs": [
    {
     "name": "stdout",
     "output_type": "stream",
     "text": [
      "0.9764705882352942\n"
     ]
    }
   ],
   "source": [
    "from sklearn.neighbors import KNeighborsClassifier\n",
    "num_folds = 10\n",
    "kfold = KFold(n_splits=10)\n",
    "model = KNeighborsClassifier(n_neighbors=17)\n",
    "results = cross_val_score(model, x_train, y_train, cv=kfold)\n",
    "print(results.mean())"
   ]
  },
  {
   "cell_type": "code",
   "execution_count": 61,
   "id": "90fccbb8",
   "metadata": {
    "ExecuteTime": {
     "end_time": "2021-12-02T09:32:59.719741Z",
     "start_time": "2021-12-02T09:32:59.601734Z"
    }
   },
   "outputs": [
    {
     "name": "stdout",
     "output_type": "stream",
     "text": [
      "1.0\n"
     ]
    }
   ],
   "source": [
    "results = cross_val_score(model, x_test, y_test, cv=kfold)\n",
    "print(results.mean())"
   ]
  },
  {
   "cell_type": "code",
   "execution_count": 62,
   "id": "e5cf974d",
   "metadata": {
    "ExecuteTime": {
     "end_time": "2021-12-02T09:33:01.584847Z",
     "start_time": "2021-12-02T09:32:59.723741Z"
    }
   },
   "outputs": [
    {
     "name": "stdout",
     "output_type": "stream",
     "text": [
      "0.9882352941176471\n",
      "{'n_neighbors': 1}\n"
     ]
    }
   ],
   "source": [
    "from sklearn.neighbors import KNeighborsClassifier\n",
    "from sklearn.model_selection import GridSearchCV\n",
    "n_neighbors = np.array(range(1,37))\n",
    "param_grid = dict(n_neighbors=n_neighbors)\n",
    "model = KNeighborsClassifier()\n",
    "grid = GridSearchCV(estimator=model, param_grid=param_grid)\n",
    "grid.fit(x_train, y_train)\n",
    "print(grid.best_score_)\n",
    "print(grid.best_params_)"
   ]
  },
  {
   "cell_type": "code",
   "execution_count": 63,
   "id": "42525b61",
   "metadata": {
    "ExecuteTime": {
     "end_time": "2021-12-02T09:33:03.175938Z",
     "start_time": "2021-12-02T09:33:01.587848Z"
    }
   },
   "outputs": [
    {
     "name": "stdout",
     "output_type": "stream",
     "text": [
      "1.0\n",
      "{'n_neighbors': 3}\n"
     ]
    }
   ],
   "source": [
    "grid.fit(x_test, y_test)\n",
    "print(grid.best_score_)\n",
    "print(grid.best_params_)"
   ]
  },
  {
   "cell_type": "code",
   "execution_count": 64,
   "id": "bb2bf61d",
   "metadata": {
    "ExecuteTime": {
     "end_time": "2021-12-02T09:33:05.846091Z",
     "start_time": "2021-12-02T09:33:03.178939Z"
    }
   },
   "outputs": [
    {
     "data": {
      "image/png": "[encoded data removed]",
      "text/plain": [
       "<Figure size 432x288 with 1 Axes>"
      ]
     },
     "metadata": {
      "needs_background": "light"
     },
     "output_type": "display_data"
    }
   ],
   "source": [
    "import matplotlib.pyplot as plt \n",
    "%matplotlib inline\n",
    "k_range = range(1, 41)\n",
    "k_scores = []\n",
    "\n",
    "for k in k_range:\n",
    "    knn = KNeighborsClassifier(n_neighbors=k)\n",
    "    scores = cross_val_score(knn,x, y, cv=5)\n",
    "    k_scores.append(scores.mean())\n",
    "\n",
    "plt.plot(k_range, k_scores)\n",
    "plt.xlabel('Value of K for KNN')\n",
    "plt.ylabel('Cross-Validated Accuracy')\n",
    "plt.show()"
   ]
  },
  {
   "cell_type": "markdown",
   "id": "49093b30",
   "metadata": {},
   "source": [
    "# AutoML models (autokeras)"
   ]
  },
  {
   "cell_type": "code",
   "execution_count": 65,
   "id": "c2ba1522",
   "metadata": {
    "ExecuteTime": {
     "end_time": "2021-12-02T09:33:11.207398Z",
     "start_time": "2021-12-02T09:33:05.848091Z"
    }
   },
   "outputs": [
    {
     "name": "stdout",
     "output_type": "stream",
     "text": [
      "Requirement already satisfied: autokeras in d:\\jup\\lib\\site-packages (1.0.16.post1)Note: you may need to restart the kernel to use updated packages.\n",
      "Requirement already satisfied: scikit-learn in d:\\jup\\lib\\site-packages (from autokeras) (0.23.2)\n",
      "Requirement already satisfied: pandas in d:\\jup\\lib\\site-packages (from autokeras) (1.2.4)\n",
      "Requirement already satisfied: keras-tuner<1.1,>=1.0.2 in d:\\jup\\lib\\site-packages (from autokeras) (1.0.4)\n",
      "Requirement already satisfied: packaging in d:\\jup\\lib\\site-packages (from autokeras) (20.9)\n",
      "Requirement already satisfied: tensorflow<2.6,>=2.3.0 in d:\\jup\\lib\\site-packages (from autokeras) (2.5.2)\n",
      "Requirement already satisfied: tensorboard in d:\\jup\\lib\\site-packages (from keras-tuner<1.1,>=1.0.2->autokeras) (2.7.0)\n",
      "Requirement already satisfied: numpy in d:\\jup\\lib\\site-packages (from keras-tuner<1.1,>=1.0.2->autokeras) (1.19.5)\n",
      "Requirement already satisfied: ipython in d:\\jup\\lib\\site-packages (from keras-tuner<1.1,>=1.0.2->autokeras) (7.22.0)\n",
      "Requirement already satisfied: kt-legacy in d:\\jup\\lib\\site-packages (from keras-tuner<1.1,>=1.0.2->autokeras) (1.0.4)\n",
      "Requirement already satisfied: requests in d:\\jup\\lib\\site-packages (from keras-tuner<1.1,>=1.0.2->autokeras) (2.25.1)\n",
      "Requirement already satisfied: scipy in d:\\jup\\lib\\site-packages (from keras-tuner<1.1,>=1.0.2->autokeras) (1.5.4)\n",
      "Requirement already satisfied: astunparse~=1.6.3 in d:\\jup\\lib\\site-packages (from tensorflow<2.6,>=2.3.0->autokeras) (1.6.3)\n",
      "Requirement already satisfied: protobuf>=3.9.2 in d:\\jup\\lib\\site-packages (from tensorflow<2.6,>=2.3.0->autokeras) (3.19.1)\n",
      "Requirement already satisfied: gast==0.4.0 in d:\\jup\\lib\\site-packages (from tensorflow<2.6,>=2.3.0->autokeras) (0.4.0)\n",
      "Requirement already satisfied: flatbuffers~=1.12.0 in d:\\jup\\lib\\site-packages (from tensorflow<2.6,>=2.3.0->autokeras) (1.12)\n",
      "Requirement already satisfied: wheel~=0.35 in d:\\jup\\lib\\site-packages (from tensorflow<2.6,>=2.3.0->autokeras) (0.36.2)\n",
      "Requirement already satisfied: google-pasta~=0.2 in d:\\jup\\lib\\site-packages (from tensorflow<2.6,>=2.3.0->autokeras) (0.2.0)\n",
      "Requirement already satisfied: termcolor~=1.1.0 in d:\\jup\\lib\\site-packages (from tensorflow<2.6,>=2.3.0->autokeras) (1.1.0)\n",
      "Requirement already satisfied: keras-preprocessing~=1.1.2 in d:\\jup\\lib\\site-packages (from tensorflow<2.6,>=2.3.0->autokeras) (1.1.2)\n",
      "Requirement already satisfied: six~=1.15.0 in d:\\jup\\lib\\site-packages (from tensorflow<2.6,>=2.3.0->autokeras) (1.15.0)\n",
      "Requirement already satisfied: absl-py~=0.10 in d:\\jup\\lib\\site-packages (from tensorflow<2.6,>=2.3.0->autokeras) (0.15.0)\n",
      "Requirement already satisfied: tensorflow-estimator<2.6.0,>=2.5.0 in d:\\jup\\lib\\site-packages (from tensorflow<2.6,>=2.3.0->autokeras) (2.5.0)\n",
      "Requirement already satisfied: grpcio~=1.34.0 in d:\\jup\\lib\\site-packages (from tensorflow<2.6,>=2.3.0->autokeras) (1.34.1)\n",
      "Requirement already satisfied: typing-extensions~=3.7.4 in d:\\jup\\lib\\site-packages (from tensorflow<2.6,>=2.3.0->autokeras) (3.7.4.3)\n",
      "Requirement already satisfied: h5py~=3.1.0 in d:\\jup\\lib\\site-packages (from tensorflow<2.6,>=2.3.0->autokeras) (3.1.0)\n",
      "Requirement already satisfied: wrapt~=1.12.1 in d:\\jup\\lib\\site-packages (from tensorflow<2.6,>=2.3.0->autokeras) (1.12.1)\n",
      "Requirement already satisfied: opt-einsum~=3.3.0 in d:\\jup\\lib\\site-packages (from tensorflow<2.6,>=2.3.0->autokeras) (3.3.0)\n",
      "Requirement already satisfied: keras-nightly~=2.5.0.dev in d:\\jup\\lib\\site-packages (from tensorflow<2.6,>=2.3.0->autokeras) (2.5.0.dev2021032900)\n",
      "Requirement already satisfied: setuptools>=41.0.0 in d:\\jup\\lib\\site-packages (from tensorboard->keras-tuner<1.1,>=1.0.2->autokeras) (52.0.0.post20210125)\n",
      "Requirement already satisfied: google-auth<3,>=1.6.3 in d:\\jup\\lib\\site-packages (from tensorboard->keras-tuner<1.1,>=1.0.2->autokeras) (2.3.3)\n",
      "Requirement already satisfied: markdown>=2.6.8 in d:\\jup\\lib\\site-packages (from tensorboard->keras-tuner<1.1,>=1.0.2->autokeras) (3.3.6)\n",
      "Requirement already satisfied: google-auth-oauthlib<0.5,>=0.4.1 in d:\\jup\\lib\\site-packages (from tensorboard->keras-tuner<1.1,>=1.0.2->autokeras) (0.4.6)\n",
      "Requirement already satisfied: werkzeug>=0.11.15 in d:\\jup\\lib\\site-packages (from tensorboard->keras-tuner<1.1,>=1.0.2->autokeras) (1.0.1)\n",
      "Requirement already satisfied: tensorboard-plugin-wit>=1.6.0 in d:\\jup\\lib\\site-packages (from tensorboard->keras-tuner<1.1,>=1.0.2->autokeras) (1.8.0)\n",
      "Requirement already satisfied: tensorboard-data-server<0.7.0,>=0.6.0 in d:\\jup\\lib\\site-packages (from tensorboard->keras-tuner<1.1,>=1.0.2->autokeras) (0.6.1)\n",
      "Requirement already satisfied: cachetools<5.0,>=2.0.0 in d:\\jup\\lib\\site-packages (from google-auth<3,>=1.6.3->tensorboard->keras-tuner<1.1,>=1.0.2->autokeras) (4.2.4)\n",
      "Requirement already satisfied: pyasn1-modules>=0.2.1 in d:\\jup\\lib\\site-packages (from google-auth<3,>=1.6.3->tensorboard->keras-tuner<1.1,>=1.0.2->autokeras) (0.2.8)\n",
      "Requirement already satisfied: rsa<5,>=3.1.4 in d:\\jup\\lib\\site-packages (from google-auth<3,>=1.6.3->tensorboard->keras-tuner<1.1,>=1.0.2->autokeras) (4.7.2)\n",
      "Requirement already satisfied: requests-oauthlib>=0.7.0 in d:\\jup\\lib\\site-packages (from google-auth-oauthlib<0.5,>=0.4.1->tensorboard->keras-tuner<1.1,>=1.0.2->autokeras) (1.3.0)\n",
      "Requirement already satisfied: importlib-metadata>=4.4 in d:\\jup\\lib\\site-packages (from markdown>=2.6.8->tensorboard->keras-tuner<1.1,>=1.0.2->autokeras) (4.8.2)\n",
      "Requirement already satisfied: zipp>=0.5 in d:\\jup\\lib\\site-packages (from importlib-metadata>=4.4->markdown>=2.6.8->tensorboard->keras-tuner<1.1,>=1.0.2->autokeras) (3.4.1)\n",
      "Requirement already satisfied: pyasn1<0.5.0,>=0.4.6 in d:\\jup\\lib\\site-packages (from pyasn1-modules>=0.2.1->google-auth<3,>=1.6.3->tensorboard->keras-tuner<1.1,>=1.0.2->autokeras) (0.4.8)\n",
      "Requirement already satisfied: urllib3<1.27,>=1.21.1 in d:\\jup\\lib\\site-packages (from requests->keras-tuner<1.1,>=1.0.2->autokeras) (1.26.4)\n",
      "Requirement already satisfied: certifi>=2017.4.17 in d:\\jup\\lib\\site-packages (from requests->keras-tuner<1.1,>=1.0.2->autokeras) (2020.12.5)\n",
      "Requirement already satisfied: chardet<5,>=3.0.2 in d:\\jup\\lib\\site-packages (from requests->keras-tuner<1.1,>=1.0.2->autokeras) (4.0.0)\n",
      "Requirement already satisfied: idna<3,>=2.5 in d:\\jup\\lib\\site-packages (from requests->keras-tuner<1.1,>=1.0.2->autokeras) (2.10)\n",
      "Requirement already satisfied: oauthlib>=3.0.0 in d:\\jup\\lib\\site-packages (from requests-oauthlib>=0.7.0->google-auth-oauthlib<0.5,>=0.4.1->tensorboard->keras-tuner<1.1,>=1.0.2->autokeras) (3.1.1)\n",
      "Requirement already satisfied: decorator in d:\\jup\\lib\\site-packages (from ipython->keras-tuner<1.1,>=1.0.2->autokeras) (5.0.6)\n",
      "Requirement already satisfied: backcall in d:\\jup\\lib\\site-packages (from ipython->keras-tuner<1.1,>=1.0.2->autokeras) (0.2.0)\n",
      "Requirement already satisfied: pickleshare in d:\\jup\\lib\\site-packages (from ipython->keras-tuner<1.1,>=1.0.2->autokeras) (0.7.5)\n",
      "Requirement already satisfied: prompt-toolkit!=3.0.0,!=3.0.1,<3.1.0,>=2.0.0 in d:\\jup\\lib\\site-packages (from ipython->keras-tuner<1.1,>=1.0.2->autokeras) (3.0.17)\n",
      "Requirement already satisfied: pygments in d:\\jup\\lib\\site-packages (from ipython->keras-tuner<1.1,>=1.0.2->autokeras) (2.8.1)\n",
      "Requirement already satisfied: traitlets>=4.2 in d:\\jup\\lib\\site-packages (from ipython->keras-tuner<1.1,>=1.0.2->autokeras) (5.0.5)\n",
      "Requirement already satisfied: colorama in d:\\jup\\lib\\site-packages (from ipython->keras-tuner<1.1,>=1.0.2->autokeras) (0.4.4)\n",
      "Requirement already satisfied: jedi>=0.16 in d:\\jup\\lib\\site-packages (from ipython->keras-tuner<1.1,>=1.0.2->autokeras) (0.17.2)\n",
      "Requirement already satisfied: parso<0.8.0,>=0.7.0 in d:\\jup\\lib\\site-packages (from jedi>=0.16->ipython->keras-tuner<1.1,>=1.0.2->autokeras) (0.7.0)\n",
      "Requirement already satisfied: wcwidth in d:\\jup\\lib\\site-packages (from prompt-toolkit!=3.0.0,!=3.0.1,<3.1.0,>=2.0.0->ipython->keras-tuner<1.1,>=1.0.2->autokeras) (0.2.5)\n",
      "Requirement already satisfied: ipython-genutils in d:\\jup\\lib\\site-packages (from traitlets>=4.2->ipython->keras-tuner<1.1,>=1.0.2->autokeras) (0.2.0)\n",
      "Requirement already satisfied: pyparsing>=2.0.2 in d:\\jup\\lib\\site-packages (from packaging->autokeras) (2.4.7)\n",
      "Requirement already satisfied: python-dateutil>=2.7.3 in d:\\jup\\lib\\site-packages (from pandas->autokeras) (2.8.1)\n",
      "Requirement already satisfied: pytz>=2017.3 in d:\\jup\\lib\\site-packages (from pandas->autokeras) (2021.1)\n",
      "Requirement already satisfied: joblib>=0.11 in d:\\jup\\lib\\site-packages (from scikit-learn->autokeras) (1.0.1)\n",
      "Requirement already satisfied: threadpoolctl>=2.0.0 in d:\\jup\\lib\\site-packages (from scikit-learn->autokeras) (2.1.0)\n",
      "\n"
     ]
    }
   ],
   "source": [
    "pip install autokeras"
   ]
  },
  {
   "cell_type": "code",
   "execution_count": 68,
   "id": "58e07833",
   "metadata": {
    "ExecuteTime": {
     "end_time": "2021-12-02T09:35:40.405345Z",
     "start_time": "2021-12-02T09:35:40.399344Z"
    }
   },
   "outputs": [],
   "source": [
    "import autokeras as ak\n"
   ]
  },
  {
   "cell_type": "code",
   "execution_count": 69,
   "id": "ef6e9ff7",
   "metadata": {
    "ExecuteTime": {
     "end_time": "2021-12-02T09:35:43.346513Z",
     "start_time": "2021-12-02T09:35:43.231506Z"
    }
   },
   "outputs": [],
   "source": [
    "clf=ak.StructuredDataClassifier(overwrite=True,max_trials=3)"
   ]
  },
  {
   "cell_type": "code",
   "execution_count": 70,
   "id": "7f5fbd38",
   "metadata": {
    "ExecuteTime": {
     "end_time": "2021-12-02T09:36:07.629902Z",
     "start_time": "2021-12-02T09:35:49.417860Z"
    }
   },
   "outputs": [
    {
     "name": "stdout",
     "output_type": "stream",
     "text": [
      "Trial 3 Complete [00h 00m 04s]\n",
      "val_accuracy: 0.800000011920929\n",
      "\n",
      "Best val_accuracy So Far: 1.0\n",
      "Total elapsed time: 00h 00m 12s\n",
      "INFO:tensorflow:Oracle triggered exit\n",
      "Epoch 1/10\n",
      "6/6 [==============================] - 1s 4ms/step - loss: 0.6216 - accuracy: 0.7529\n",
      "Epoch 2/10\n",
      "6/6 [==============================] - 0s 3ms/step - loss: 0.5640 - accuracy: 0.8706\n",
      "Epoch 3/10\n",
      "6/6 [==============================] - 0s 3ms/step - loss: 0.5123 - accuracy: 0.9176\n",
      "Epoch 4/10\n",
      "6/6 [==============================] - 0s 3ms/step - loss: 0.4640 - accuracy: 0.9471\n",
      "Epoch 5/10\n",
      "6/6 [==============================] - 0s 3ms/step - loss: 0.4177 - accuracy: 0.9529\n",
      "Epoch 6/10\n",
      "6/6 [==============================] - 0s 3ms/step - loss: 0.3728 - accuracy: 0.9647\n",
      "Epoch 7/10\n",
      "6/6 [==============================] - 0s 3ms/step - loss: 0.3298 - accuracy: 0.9765\n",
      "Epoch 8/10\n",
      "6/6 [==============================] - 0s 3ms/step - loss: 0.2900 - accuracy: 0.9765\n",
      "Epoch 9/10\n",
      "6/6 [==============================] - 0s 2ms/step - loss: 0.2540 - accuracy: 0.9765\n",
      "Epoch 10/10\n",
      "6/6 [==============================] - 0s 2ms/step - loss: 0.2225 - accuracy: 0.9824\n",
      "INFO:tensorflow:Assets written to: .\\structured_data_classifier\\best_model\\assets\n"
     ]
    },
    {
     "data": {
      "text/plain": [
       "<tensorflow.python.keras.callbacks.History at 0x44e2e640>"
      ]
     },
     "execution_count": 70,
     "metadata": {},
     "output_type": "execute_result"
    }
   ],
   "source": [
    "clf.fit(x_train,y_train,epochs=10)"
   ]
  },
  {
   "cell_type": "code",
   "execution_count": 71,
   "id": "97962573",
   "metadata": {
    "ExecuteTime": {
     "end_time": "2021-12-02T09:36:14.472293Z",
     "start_time": "2021-12-02T09:36:11.798140Z"
    }
   },
   "outputs": [
    {
     "name": "stdout",
     "output_type": "stream",
     "text": [
      "3/3 [==============================] - 0s 4ms/step\n",
      "3/3 [==============================] - 0s 4ms/step - loss: 0.1907 - accuracy: 0.9875\n",
      "[0.1906779557466507, 0.987500011920929]\n"
     ]
    }
   ],
   "source": [
    "predicted_y=clf.predict(x_test)\n",
    "print(clf.evaluate(x_test, y_test))"
   ]
  },
  {
   "cell_type": "markdown",
   "id": "9ec83b12",
   "metadata": {},
   "source": [
    "# AutoML models(pycaret)"
   ]
  },
  {
   "cell_type": "code",
   "execution_count": 73,
   "id": "ca5e773f",
   "metadata": {
    "ExecuteTime": {
     "end_time": "2021-12-02T09:37:42.960075Z",
     "start_time": "2021-12-02T09:37:42.947074Z"
    }
   },
   "outputs": [],
   "source": [
    "#check google colaboratory for pycaret model "
   ]
  },
  {
   "cell_type": "markdown",
   "id": "a3b3e646",
   "metadata": {},
   "source": [
    "# AutoML models(tpot)"
   ]
  },
  {
   "cell_type": "code",
   "execution_count": 74,
   "id": "d436e4c3",
   "metadata": {
    "ExecuteTime": {
     "end_time": "2021-12-02T09:38:43.917714Z",
     "start_time": "2021-12-02T09:38:38.655413Z"
    }
   },
   "outputs": [
    {
     "name": "stdout",
     "output_type": "stream",
     "text": [
      "Requirement already satisfied: tpot in d:\\jup\\lib\\site-packages (0.11.7)\n",
      "Requirement already satisfied: numpy>=1.16.3 in d:\\jup\\lib\\site-packages (from tpot) (1.19.5)Note: you may need to restart the kernel to use updated packages.\n",
      "\n",
      "Requirement already satisfied: tqdm>=4.36.1 in d:\\jup\\lib\\site-packages (from tpot) (4.59.0)\n",
      "Requirement already satisfied: update-checker>=0.16 in d:\\jup\\lib\\site-packages (from tpot) (0.18.0)\n",
      "Requirement already satisfied: joblib>=0.13.2 in d:\\jup\\lib\\site-packages (from tpot) (1.0.1)\n",
      "Requirement already satisfied: pandas>=0.24.2 in d:\\jup\\lib\\site-packages (from tpot) (1.2.4)\n",
      "Requirement already satisfied: scikit-learn>=0.22.0 in d:\\jup\\lib\\site-packages (from tpot) (0.23.2)\n",
      "Requirement already satisfied: deap>=1.2 in d:\\jup\\lib\\site-packages (from tpot) (1.3.1)\n",
      "Requirement already satisfied: stopit>=1.1.1 in d:\\jup\\lib\\site-packages (from tpot) (1.1.2)\n",
      "Requirement already satisfied: xgboost>=1.1.0 in d:\\jup\\lib\\site-packages (from tpot) (1.5.1)\n",
      "Requirement already satisfied: scipy>=1.3.1 in d:\\jup\\lib\\site-packages (from tpot) (1.5.4)\n",
      "Requirement already satisfied: python-dateutil>=2.7.3 in d:\\jup\\lib\\site-packages (from pandas>=0.24.2->tpot) (2.8.1)\n",
      "Requirement already satisfied: pytz>=2017.3 in d:\\jup\\lib\\site-packages (from pandas>=0.24.2->tpot) (2021.1)\n",
      "Requirement already satisfied: six>=1.5 in d:\\jup\\lib\\site-packages (from python-dateutil>=2.7.3->pandas>=0.24.2->tpot) (1.15.0)\n",
      "Requirement already satisfied: threadpoolctl>=2.0.0 in d:\\jup\\lib\\site-packages (from scikit-learn>=0.22.0->tpot) (2.1.0)\n",
      "Requirement already satisfied: requests>=2.3.0 in d:\\jup\\lib\\site-packages (from update-checker>=0.16->tpot) (2.25.1)\n",
      "Requirement already satisfied: urllib3<1.27,>=1.21.1 in d:\\jup\\lib\\site-packages (from requests>=2.3.0->update-checker>=0.16->tpot) (1.26.4)\n",
      "Requirement already satisfied: idna<3,>=2.5 in d:\\jup\\lib\\site-packages (from requests>=2.3.0->update-checker>=0.16->tpot) (2.10)\n",
      "Requirement already satisfied: chardet<5,>=3.0.2 in d:\\jup\\lib\\site-packages (from requests>=2.3.0->update-checker>=0.16->tpot) (4.0.0)\n",
      "Requirement already satisfied: certifi>=2017.4.17 in d:\\jup\\lib\\site-packages (from requests>=2.3.0->update-checker>=0.16->tpot) (2020.12.5)\n"
     ]
    }
   ],
   "source": [
    "pip install tpot"
   ]
  },
  {
   "cell_type": "code",
   "execution_count": 75,
   "id": "8025a78c",
   "metadata": {
    "ExecuteTime": {
     "end_time": "2021-12-02T09:40:53.481462Z",
     "start_time": "2021-12-02T09:40:53.474461Z"
    }
   },
   "outputs": [],
   "source": [
    "from tpot import TPOTClassifier"
   ]
  },
  {
   "cell_type": "code",
   "execution_count": 76,
   "id": "9d54d63f",
   "metadata": {
    "ExecuteTime": {
     "end_time": "2021-12-02T09:45:58.930158Z",
     "start_time": "2021-12-02T09:40:56.361626Z"
    }
   },
   "outputs": [
    {
     "data": {
      "application/vnd.jupyter.widget-view+json": {
       "model_id": "b6003b3602514860940add52b98664c2",
       "version_major": 2,
       "version_minor": 0
      },
      "text/plain": [
       "Optimization Progress:   0%|          | 0/100 [00:00<?, ?pipeline/s]"
      ]
     },
     "metadata": {},
     "output_type": "display_data"
    },
    {
     "name": "stdout",
     "output_type": "stream",
     "text": [
      "\n",
      "Generation 1 - Current best internal CV score: 1.0\n",
      "\n",
      "Generation 2 - Current best internal CV score: 1.0\n",
      "\n",
      "Generation 3 - Current best internal CV score: 1.0\n",
      "\n",
      "5.01 minutes have elapsed. TPOT will close down.\n",
      "TPOT closed during evaluation in one generation.\n",
      "WARNING: TPOT may not provide a good pipeline if TPOT is stopped/interrupted in a early generation.\n",
      "\n",
      "\n",
      "TPOT closed prematurely. Will use the current best pipeline.\n",
      "\n",
      "Best pipeline: ExtraTreesClassifier(input_matrix, bootstrap=True, criterion=entropy, max_features=0.5, min_samples_leaf=12, min_samples_split=3, n_estimators=100)\n",
      "1.0\n"
     ]
    }
   ],
   "source": [
    "tpot=TPOTClassifier(verbosity=2,max_time_mins=5)\n",
    "tpot.fit(x_train,y_train)\n",
    "print(tpot.score(x_test,y_test))"
   ]
  },
  {
   "cell_type": "code",
   "execution_count": 77,
   "id": "96772cc5",
   "metadata": {
    "ExecuteTime": {
     "end_time": "2021-12-02T09:45:59.130170Z",
     "start_time": "2021-12-02T09:45:59.118169Z"
    }
   },
   "outputs": [
    {
     "data": {
      "text/plain": [
       "Pipeline(steps=[('extratreesclassifier',\n",
       "                 ExtraTreesClassifier(bootstrap=True, criterion='entropy',\n",
       "                                      max_features=0.5, min_samples_leaf=12,\n",
       "                                      min_samples_split=3))])"
      ]
     },
     "execution_count": 77,
     "metadata": {},
     "output_type": "execute_result"
    }
   ],
   "source": [
    "tpot.fitted_pipeline_"
   ]
  },
  {
   "cell_type": "code",
   "execution_count": 78,
   "id": "02cba012",
   "metadata": {
    "ExecuteTime": {
     "end_time": "2021-12-02T09:46:07.453646Z",
     "start_time": "2021-12-02T09:46:07.420644Z"
    }
   },
   "outputs": [
    {
     "name": "stdout",
     "output_type": "stream",
     "text": [
      "1.0\n"
     ]
    }
   ],
   "source": [
    "print(tpot.score(x_test,y_test))"
   ]
  },
  {
   "cell_type": "code",
   "execution_count": 79,
   "id": "a4671a0e",
   "metadata": {
    "ExecuteTime": {
     "end_time": "2021-12-02T09:46:09.979790Z",
     "start_time": "2021-12-02T09:46:09.972790Z"
    }
   },
   "outputs": [],
   "source": [
    "from sklearn.ensemble import GradientBoostingClassifier\n",
    "clf=GradientBoostingClassifier(n_estimators=135,random_state=4)"
   ]
  },
  {
   "cell_type": "code",
   "execution_count": 80,
   "id": "ff82fb7e",
   "metadata": {
    "ExecuteTime": {
     "end_time": "2021-12-02T09:46:12.778950Z",
     "start_time": "2021-12-02T09:46:12.580939Z"
    }
   },
   "outputs": [
    {
     "data": {
      "text/plain": [
       "GradientBoostingClassifier(n_estimators=135, random_state=4)"
      ]
     },
     "execution_count": 80,
     "metadata": {},
     "output_type": "execute_result"
    }
   ],
   "source": [
    "clf.fit(x_train,y_train)"
   ]
  },
  {
   "cell_type": "code",
   "execution_count": 81,
   "id": "6ceec97b",
   "metadata": {
    "ExecuteTime": {
     "end_time": "2021-12-02T09:46:15.835125Z",
     "start_time": "2021-12-02T09:46:15.816124Z"
    }
   },
   "outputs": [
    {
     "data": {
      "text/plain": [
       "array([1])"
      ]
     },
     "execution_count": 81,
     "metadata": {},
     "output_type": "execute_result"
    }
   ],
   "source": [
    "clf.predict([[0,0,0,0,1,0]])"
   ]
  },
  {
   "cell_type": "code",
   "execution_count": null,
   "id": "219fe4af",
   "metadata": {},
   "outputs": [],
   "source": []
  },
  {
   "cell_type": "code",
   "execution_count": null,
   "id": "49d76f6b",
   "metadata": {},
   "outputs": [],
   "source": []
  }
 ],
 "metadata": {
  "kernelspec": {
   "display_name": "Python 3",
   "language": "python",
   "name": "python3"
  },
  "language_info": {
   "codemirror_mode": {
    "name": "ipython",
    "version": 3
   },
   "file_extension": ".py",
   "mimetype": "text/x-python",
   "name": "python",
   "nbconvert_exporter": "python",
   "pygments_lexer": "ipython3",
   "version": "3.8.8"
  },
  "varInspector": {
   "cols": {
    "lenName": 16,
    "lenType": 16,
    "lenVar": 40
   },
   "kernels_config": {
    "python": {
     "delete_cmd_postfix": "",
     "delete_cmd_prefix": "del ",
     "library": "var_list.py",
     "varRefreshCmd": "print(var_dic_list())"
    },
    "r": {
     "delete_cmd_postfix": ") ",
     "delete_cmd_prefix": "rm(",
     "library": "var_list.r",
     "varRefreshCmd": "cat(var_dic_list()) "
    }
   },
   "types_to_exclude": [
    "module",
    "function",
    "builtin_function_or_method",
    "instance",
    "_Feature"
   ],
   "window_display": false
  }
 },
 "nbformat": 4,
 "nbformat_minor": 5
}
